{
 "cells": [
  {
   "cell_type": "code",
   "execution_count": 1,
   "id": "561b66fc",
   "metadata": {},
   "outputs": [],
   "source": [
    "# !pip install selenium\n",
    "# !pip install pandas"
   ]
  },
  {
   "cell_type": "code",
   "execution_count": 2,
   "id": "7b1d7486",
   "metadata": {},
   "outputs": [],
   "source": [
    "from selenium import webdriver\n",
    "from selenium.common.exceptions import NoSuchElementException\n",
    "from selenium.webdriver.chrome.options import Options\n",
    "from selenium.webdriver.common.keys import Keys\n",
    "import threading\n",
    "import pandas as pd\n",
    "import re\n",
    "import time\n",
    "import os\n",
    "\n",
    "os.chdir(os.path.dirname(os.getcwd()))\n",
    "from Crawl import Crawler2020"
   ]
  },
  {
   "cell_type": "code",
   "execution_count": 3,
   "id": "ff4d880c",
   "metadata": {},
   "outputs": [
    {
     "name": "stdout",
     "output_type": "stream",
     "text": [
      "{'SBD': '08002002', 'Cum_thi': 'Sở GDĐT Lào Cai', 'Toan': '6.20', 'Ngu_van': '5.50', 'Ngoai_ngu': '3.40', 'Vat_ly': '', 'Hoa_hoc': '', 'Sinh_hoc': '', 'Diem_KHTN': '', 'Lich_su': '5.75', 'Dia_ly': '7.00', 'GDCD': '8.75', 'Diem_KHXH': '7.75'}\n",
      "{'SBD': '08002003', 'Cum_thi': 'Sở GDĐT Lào Cai', 'Toan': '6.40', 'Ngu_van': '6.00', 'Ngoai_ngu': '2.80', 'Vat_ly': '', 'Hoa_hoc': '', 'Sinh_hoc': '', 'Diem_KHTN': '', 'Lich_su': '2.50', 'Dia_ly': '5.50', 'GDCD': '9.00', 'Diem_KHXH': '6.83'}\n",
      "{'SBD': '07000001', 'Cum_thi': 'Sở GDĐT Lai Châu', 'Toan': '8.60', 'Ngu_van': '6.00', 'Ngoai_ngu': '4.60', 'Vat_ly': '7.50', 'Hoa_hoc': '8.50', 'Sinh_hoc': '7.00', 'Diem_KHTN': '7.67', 'Lich_su': '', 'Dia_ly': '', 'GDCD': '', 'Diem_KHXH': ''}\n",
      "{'SBD': '08002004', 'Cum_thi': 'Sở GDĐT Lào Cai', 'Toan': '5.00', 'Ngu_van': '6.00', 'Ngoai_ngu': '4.20', 'Vat_ly': '', 'Hoa_hoc': '', 'Sinh_hoc': '', 'Diem_KHTN': '', 'Lich_su': '3.25', 'Dia_ly': '6.75', 'GDCD': '7.50', 'Diem_KHXH': '6.08'}\n",
      "{'SBD': '07000002', 'Cum_thi': 'Sở GDĐT Lai Châu', 'Toan': '9.40', 'Ngu_van': '7.50', 'Ngoai_ngu': '6.80', 'Vat_ly': '5.75', 'Hoa_hoc': '8.50', 'Sinh_hoc': '8.50', 'Diem_KHTN': '7.58', 'Lich_su': '', 'Dia_ly': '', 'GDCD': '', 'Diem_KHXH': ''}\n",
      "{'SBD': '07000003', 'Cum_thi': 'Sở GDĐT Lai Châu', 'Toan': '5.60', 'Ngu_van': '6.75', 'Ngoai_ngu': '4.00', 'Vat_ly': '', 'Hoa_hoc': '', 'Sinh_hoc': '', 'Diem_KHTN': '', 'Lich_su': '7.00', 'Dia_ly': '8.00', 'GDCD': '8.75', 'Diem_KHXH': '8.17'}\n",
      "{'SBD': '08002005', 'Cum_thi': 'Sở GDĐT Lào Cai', 'Toan': '4.00', 'Ngu_van': '4.75', 'Ngoai_ngu': '3.80', 'Vat_ly': '', 'Hoa_hoc': '', 'Sinh_hoc': '', 'Diem_KHTN': '', 'Lich_su': '4.75', 'Dia_ly': '6.25', 'GDCD': '7.25', 'Diem_KHXH': '6.42'}\n",
      "{'SBD': '07000004', 'Cum_thi': 'Sở GDĐT Lai Châu', 'Toan': '8.20', 'Ngu_van': '8.50', 'Ngoai_ngu': '9.00', 'Vat_ly': '', 'Hoa_hoc': '', 'Sinh_hoc': '', 'Diem_KHTN': '', 'Lich_su': '7.00', 'Dia_ly': '8.00', 'GDCD': '9.75', 'Diem_KHXH': '8.83'}\n",
      "{'SBD': '08002006', 'Cum_thi': 'Sở GDĐT Lào Cai', 'Toan': '7.20', 'Ngu_van': '7.50', 'Ngoai_ngu': '3.80', 'Vat_ly': '', 'Hoa_hoc': '', 'Sinh_hoc': '', 'Diem_KHTN': '', 'Lich_su': '6.50', 'Dia_ly': '8.75', 'GDCD': '10.00', 'Diem_KHXH': '8.83'}\n",
      "{'SBD': '08002007', 'Cum_thi': 'Sở GDĐT Lào Cai', 'Toan': '8.20', 'Ngu_van': '7.75', 'Ngoai_ngu': '9.00', 'Vat_ly': '', 'Hoa_hoc': '', 'Sinh_hoc': '', 'Diem_KHTN': '', 'Lich_su': '8.25', 'Dia_ly': '7.75', 'GDCD': '9.75', 'Diem_KHXH': '9.25'}\n",
      "{'SBD': '07000005', 'Cum_thi': 'Sở GDĐT Lai Châu', 'Toan': '3.00', 'Ngu_van': '', 'Ngoai_ngu': '1.40', 'Vat_ly': '2.00', 'Hoa_hoc': '', 'Sinh_hoc': '', 'Diem_KHTN': '', 'Lich_su': '', 'Dia_ly': '', 'GDCD': '', 'Diem_KHXH': ''}\n",
      "{'SBD': '08002008', 'Cum_thi': 'Sở GDĐT Lào Cai', 'Toan': '5.20', 'Ngu_van': '5.00', 'Ngoai_ngu': '3.60', 'Vat_ly': '', 'Hoa_hoc': '', 'Sinh_hoc': '', 'Diem_KHTN': '', 'Lich_su': '2.75', 'Dia_ly': '5.75', 'GDCD': '5.50', 'Diem_KHXH': '4.58'}\n",
      "{'SBD': '07000006', 'Cum_thi': 'Sở GDĐT Lai Châu', 'Toan': '8.40', 'Ngu_van': '6.50', 'Ngoai_ngu': '8.00', 'Vat_ly': '', 'Hoa_hoc': '', 'Sinh_hoc': '', 'Diem_KHTN': '', 'Lich_su': '4.75', 'Dia_ly': '8.50', 'GDCD': '9.00', 'Diem_KHXH': '7.58'}\n",
      "{'SBD': '08002009', 'Cum_thi': 'Sở GDĐT Lào Cai', 'Toan': '7.00', 'Ngu_van': '8.25', 'Ngoai_ngu': '5.60', 'Vat_ly': '', 'Hoa_hoc': '', 'Sinh_hoc': '', 'Diem_KHTN': '', 'Lich_su': '6.25', 'Dia_ly': '8.00', 'GDCD': '10.00', 'Diem_KHXH': '8.75'}\n",
      "{'SBD': '07000007', 'Cum_thi': 'Sở GDĐT Lai Châu', 'Toan': '7.00', 'Ngu_van': '6.00', 'Ngoai_ngu': '4.20', 'Vat_ly': '', 'Hoa_hoc': '', 'Sinh_hoc': '', 'Diem_KHTN': '', 'Lich_su': '4.50', 'Dia_ly': '6.50', 'GDCD': '9.00', 'Diem_KHXH': '7.50'}\n",
      "{'SBD': '07000008', 'Cum_thi': 'Sở GDĐT Lai Châu', 'Toan': '6.40', 'Ngu_van': '7.50', 'Ngoai_ngu': '5.80', 'Vat_ly': '', 'Hoa_hoc': '', 'Sinh_hoc': '', 'Diem_KHTN': '', 'Lich_su': '6.25', 'Dia_ly': '5.75', 'GDCD': '8.50', 'Diem_KHXH': '7.75'}\n",
      "{'SBD': '08002010', 'Cum_thi': 'Sở GDĐT Lào Cai', 'Toan': '5.20', 'Ngu_van': '4.00', 'Ngoai_ngu': '4.00', 'Vat_ly': '', 'Hoa_hoc': '', 'Sinh_hoc': '', 'Diem_KHTN': '', 'Lich_su': '4.25', 'Dia_ly': '6.25', 'GDCD': '7.25', 'Diem_KHXH': '6.25'}\n",
      "{'SBD': '07000009', 'Cum_thi': 'Sở GDĐT Lai Châu', 'Toan': '6.00', 'Ngu_van': '4.00', 'Ngoai_ngu': '3.00', 'Vat_ly': '', 'Hoa_hoc': '', 'Sinh_hoc': '', 'Diem_KHTN': '', 'Lich_su': '3.50', 'Dia_ly': '7.25', 'GDCD': '8.00', 'Diem_KHXH': '6.50'}\n",
      "{'SBD': '08002011', 'Cum_thi': 'Sở GDĐT Lào Cai', 'Toan': '5.60', 'Ngu_van': '5.75', 'Ngoai_ngu': '4.40', 'Vat_ly': '', 'Hoa_hoc': '', 'Sinh_hoc': '', 'Diem_KHTN': '', 'Lich_su': '3.00', 'Dia_ly': '5.25', 'GDCD': '9.50', 'Diem_KHXH': '7.33'}\n",
      "{'SBD': '07000010', 'Cum_thi': 'Sở GDĐT Lai Châu', 'Toan': '8.60', 'Ngu_van': '5.50', 'Ngoai_ngu': '7.40', 'Vat_ly': '5.75', 'Hoa_hoc': '8.25', 'Sinh_hoc': '5.25', 'Diem_KHTN': '6.42', 'Lich_su': '', 'Dia_ly': '', 'GDCD': '', 'Diem_KHXH': ''}\n",
      "{'SBD': '08002012', 'Cum_thi': 'Sở GDĐT Lào Cai', 'Toan': '3.40', 'Ngu_van': '4.50', 'Ngoai_ngu': '4.00', 'Vat_ly': '', 'Hoa_hoc': '', 'Sinh_hoc': '', 'Diem_KHTN': '', 'Lich_su': '3.75', 'Dia_ly': '6.00', 'GDCD': '8.25', 'Diem_KHXH': '6.75'}\n",
      "{'SBD': '07000011', 'Cum_thi': 'Sở GDĐT Lai Châu', 'Toan': '7.80', 'Ngu_van': '6.25', 'Ngoai_ngu': '6.00', 'Vat_ly': '', 'Hoa_hoc': '', 'Sinh_hoc': '', 'Diem_KHTN': '', 'Lich_su': '9.25', 'Dia_ly': '7.50', 'GDCD': '8.25', 'Diem_KHXH': '8.58'}\n",
      "{'SBD': '08002013', 'Cum_thi': 'Sở GDĐT Lào Cai', 'Toan': '8.40', 'Ngu_van': '7.50', 'Ngoai_ngu': '9.00', 'Vat_ly': '', 'Hoa_hoc': '', 'Sinh_hoc': '', 'Diem_KHTN': '', 'Lich_su': '8.25', 'Dia_ly': '8.50', 'GDCD': '9.25', 'Diem_KHXH': '8.92'}\n",
      "{'SBD': '07000012', 'Cum_thi': 'Sở GDĐT Lai Châu', 'Toan': '7.80', 'Ngu_van': '7.50', 'Ngoai_ngu': '6.60', 'Vat_ly': '', 'Hoa_hoc': '', 'Sinh_hoc': '', 'Diem_KHTN': '', 'Lich_su': '5.25', 'Dia_ly': '5.75', 'GDCD': '7.75', 'Diem_KHXH': '6.92'}\n",
      "{'SBD': '08002014', 'Cum_thi': 'Sở GDĐT Lào Cai', 'Toan': '5.60', 'Ngu_van': '5.50', 'Ngoai_ngu': '3.60', 'Vat_ly': '', 'Hoa_hoc': '', 'Sinh_hoc': '', 'Diem_KHTN': '', 'Lich_su': '4.75', 'Dia_ly': '4.50', 'GDCD': '7.00', 'Diem_KHXH': '6.25'}\n",
      "{'SBD': '07000013', 'Cum_thi': 'Sở GDĐT Lai Châu', 'Toan': '6.20', 'Ngu_van': '6.50', 'Ngoai_ngu': '4.20', 'Vat_ly': '', 'Hoa_hoc': '', 'Sinh_hoc': '', 'Diem_KHTN': '', 'Lich_su': '5.00', 'Dia_ly': '8.25', 'GDCD': '9.75', 'Diem_KHXH': '8.17'}\n",
      "{'SBD': '08002015', 'Cum_thi': 'Sở GDĐT Lào Cai', 'Toan': '5.80', 'Ngu_van': '6.25', 'Ngoai_ngu': '', 'Vat_ly': '', 'Hoa_hoc': '', 'Sinh_hoc': '', 'Diem_KHTN': '', 'Lich_su': '3.50', 'Dia_ly': '8.00', 'GDCD': '', 'Diem_KHXH': ''}\n",
      "{'SBD': '07000014', 'Cum_thi': 'Sở GDĐT Lai Châu', 'Toan': '9.00', 'Ngu_van': '6.00', 'Ngoai_ngu': '7.00', 'Vat_ly': '8.00', 'Hoa_hoc': '3.25', 'Sinh_hoc': '5.75', 'Diem_KHTN': '5.67', 'Lich_su': '', 'Dia_ly': '', 'GDCD': '', 'Diem_KHXH': ''}\n",
      "{'SBD': '08002016', 'Cum_thi': 'Sở GDĐT Lào Cai', 'Toan': '8.00', 'Ngu_van': '6.25', 'Ngoai_ngu': '4.20', 'Vat_ly': '', 'Hoa_hoc': '', 'Sinh_hoc': '', 'Diem_KHTN': '', 'Lich_su': '6.00', 'Dia_ly': '8.00', 'GDCD': '9.25', 'Diem_KHXH': '8.17'}\n",
      "{'SBD': '07000015', 'Cum_thi': 'Sở GDĐT Lai Châu', 'Toan': '5.80', 'Ngu_van': '6.00', 'Ngoai_ngu': '4.20', 'Vat_ly': '', 'Hoa_hoc': '', 'Sinh_hoc': '', 'Diem_KHTN': '', 'Lich_su': '3.75', 'Dia_ly': '6.25', 'GDCD': '9.00', 'Diem_KHXH': '7.25'}\n",
      "{'SBD': '08002017', 'Cum_thi': 'Sở GDĐT Lào Cai', 'Toan': '4.60', 'Ngu_van': '4.75', 'Ngoai_ngu': '4.00', 'Vat_ly': '', 'Hoa_hoc': '', 'Sinh_hoc': '', 'Diem_KHTN': '', 'Lich_su': '3.00', 'Dia_ly': '5.50', 'GDCD': '7.50', 'Diem_KHXH': '6.00'}\n",
      "{'SBD': '07000016', 'Cum_thi': 'Sở GDĐT Lai Châu', 'Toan': '4.80', 'Ngu_van': '5.75', 'Ngoai_ngu': '3.80', 'Vat_ly': '', 'Hoa_hoc': '', 'Sinh_hoc': '', 'Diem_KHTN': '', 'Lich_su': '5.00', 'Dia_ly': '7.25', 'GDCD': '9.00', 'Diem_KHXH': '7.67'}\n",
      "{'SBD': '08002018', 'Cum_thi': 'Sở GDĐT Lào Cai', 'Toan': '6.20', 'Ngu_van': '6.00', 'Ngoai_ngu': '3.00', 'Vat_ly': '', 'Hoa_hoc': '', 'Sinh_hoc': '', 'Diem_KHTN': '', 'Lich_su': '5.00', 'Dia_ly': '7.50', 'GDCD': '9.25', 'Diem_KHXH': '7.83'}\n",
      "{'SBD': '07000017', 'Cum_thi': 'Sở GDĐT Lai Châu', 'Toan': '8.00', 'Ngu_van': '6.50', 'Ngoai_ngu': '3.20', 'Vat_ly': '', 'Hoa_hoc': '', 'Sinh_hoc': '', 'Diem_KHTN': '', 'Lich_su': '4.75', 'Dia_ly': '7.25', 'GDCD': '9.50', 'Diem_KHXH': '7.92'}\n"
     ]
    },
    {
     "name": "stdout",
     "output_type": "stream",
     "text": [
      "{'SBD': '08002019', 'Cum_thi': 'Sở GDĐT Lào Cai', 'Toan': '7.20', 'Ngu_van': '6.50', 'Ngoai_ngu': '4.80', 'Vat_ly': '', 'Hoa_hoc': '', 'Sinh_hoc': '', 'Diem_KHTN': '', 'Lich_su': '7.75', 'Dia_ly': '7.75', 'GDCD': '9.75', 'Diem_KHXH': '9.08'}\n",
      "{'SBD': '07000018', 'Cum_thi': 'Sở GDĐT Lai Châu', 'Toan': '7.20', 'Ngu_van': '5.50', 'Ngoai_ngu': '3.80', 'Vat_ly': '', 'Hoa_hoc': '', 'Sinh_hoc': '', 'Diem_KHTN': '', 'Lich_su': '6.25', 'Dia_ly': '8.00', 'GDCD': '8.75', 'Diem_KHXH': '7.92'}\n",
      "{'SBD': '07000019', 'Cum_thi': 'Sở GDĐT Lai Châu', 'Toan': '9.20', 'Ngu_van': '6.50', 'Ngoai_ngu': '5.60', 'Vat_ly': '8.75', 'Hoa_hoc': '8.75', 'Sinh_hoc': '5.75', 'Diem_KHTN': '7.75', 'Lich_su': '', 'Dia_ly': '', 'GDCD': '', 'Diem_KHXH': ''}\n",
      "{'SBD': '08002021', 'Cum_thi': 'Sở GDĐT Lào Cai', 'Toan': '5.60', 'Ngu_van': '5.25', 'Ngoai_ngu': '3.40', 'Vat_ly': '', 'Hoa_hoc': '', 'Sinh_hoc': '', 'Diem_KHTN': '', 'Lich_su': '5.00', 'Dia_ly': '6.00', 'GDCD': '9.25', 'Diem_KHXH': '7.83'}\n",
      "{'SBD': '08002022', 'Cum_thi': 'Sở GDĐT Lào Cai', 'Toan': '6.60', 'Ngu_van': '6.00', 'Ngoai_ngu': '', 'Vat_ly': '', 'Hoa_hoc': '', 'Sinh_hoc': '', 'Diem_KHTN': '', 'Lich_su': '5.00', 'Dia_ly': '7.25', 'GDCD': '', 'Diem_KHXH': ''}\n",
      "{'SBD': '08002023', 'Cum_thi': 'Sở GDĐT Lào Cai', 'Toan': '7.20', 'Ngu_van': '5.50', 'Ngoai_ngu': '', 'Vat_ly': '', 'Hoa_hoc': '', 'Sinh_hoc': '', 'Diem_KHTN': '', 'Lich_su': '6.25', 'Dia_ly': '7.50', 'GDCD': '', 'Diem_KHXH': ''}\n",
      "{'SBD': '08002024', 'Cum_thi': 'Sở GDĐT Lào Cai', 'Toan': '6.80', 'Ngu_van': '5.75', 'Ngoai_ngu': '5.00', 'Vat_ly': '', 'Hoa_hoc': '', 'Sinh_hoc': '', 'Diem_KHTN': '', 'Lich_su': '5.00', 'Dia_ly': '7.50', 'GDCD': '8.50', 'Diem_KHXH': '7.33'}\n",
      "{'SBD': '08002025', 'Cum_thi': 'Sở GDĐT Lào Cai', 'Toan': '2.60', 'Ngu_van': '4.50', 'Ngoai_ngu': '2.80', 'Vat_ly': '', 'Hoa_hoc': '', 'Sinh_hoc': '', 'Diem_KHTN': '', 'Lich_su': '4.00', 'Dia_ly': '4.00', 'GDCD': '6.00', 'Diem_KHXH': '5.33'}\n",
      "{'SBD': '08002026', 'Cum_thi': 'Sở GDĐT Lào Cai', 'Toan': '5.80', 'Ngu_van': '7.25', 'Ngoai_ngu': '3.80', 'Vat_ly': '', 'Hoa_hoc': '', 'Sinh_hoc': '', 'Diem_KHTN': '', 'Lich_su': '3.75', 'Dia_ly': '7.50', 'GDCD': '9.75', 'Diem_KHXH': '7.75'}\n",
      "11111111111111111111111111111111111111111111111111111111111111111\n",
      "11111111111111111111111111111111111111111111111111111111111111111\n"
     ]
    }
   ],
   "source": [
    "# ma_tinh = '01'\n",
    "chrome_path = '/home/hai/Documents/Project/chromedriver_linux64/chromedriver'\n",
    "save_path = '/home/hai/Documents/Project/CrawlDiemthi2020/data'\n",
    "so_luong = 30000\n",
    "# bat dau crawl\n",
    "# Crawler2020(ma_tinh, chrome_path, save_path, so_luong)\n",
    "\n",
    "t1 = threading.Thread(target = Crawler2020, args=('07', chrome_path, save_path, ))\n",
    "t2 = threading.Thread(target = Crawler2020, args=('08', chrome_path, save_path, ))\n",
    "\n",
    "t1.start()\n",
    "t2.start()\n",
    "\n",
    "t1.join()\n",
    "t2.join()"
   ]
  },
  {
   "cell_type": "code",
   "execution_count": null,
   "id": "70e7eafe",
   "metadata": {},
   "outputs": [],
   "source": []
  }
 ],
 "metadata": {
  "kernelspec": {
   "display_name": "Python 3",
   "language": "python",
   "name": "python3"
  },
  "language_info": {
   "codemirror_mode": {
    "name": "ipython",
    "version": 3
   },
   "file_extension": ".py",
   "mimetype": "text/x-python",
   "name": "python",
   "nbconvert_exporter": "python",
   "pygments_lexer": "ipython3",
   "version": "3.8.8"
  }
 },
 "nbformat": 4,
 "nbformat_minor": 5
}
