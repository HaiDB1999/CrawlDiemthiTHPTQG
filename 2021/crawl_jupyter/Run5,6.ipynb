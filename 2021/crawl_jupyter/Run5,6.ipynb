{
 "cells": [
  {
   "cell_type": "code",
   "execution_count": 1,
   "id": "561b66fc",
   "metadata": {},
   "outputs": [],
   "source": [
    "# !pip install selenium\n",
    "# !pip install pandas"
   ]
  },
  {
   "cell_type": "code",
   "execution_count": 2,
   "id": "7b1d7486",
   "metadata": {},
   "outputs": [],
   "source": [
    "from selenium import webdriver\n",
    "from selenium.common.exceptions import NoSuchElementException\n",
    "from selenium.webdriver.chrome.options import Options\n",
    "from selenium.webdriver.common.keys import Keys\n",
    "import threading\n",
    "import pandas as pd\n",
    "import re\n",
    "import time\n",
    "import os\n",
    "\n",
    "os.chdir(os.path.dirname(os.getcwd()))\n",
    "from Crawl import Crawler2020"
   ]
  },
  {
   "cell_type": "code",
   "execution_count": 3,
   "id": "ff4d880c",
   "metadata": {},
   "outputs": [
    {
     "name": "stdout",
     "output_type": "stream",
     "text": [
      "{'SBD': '05003750', 'Cum_thi': 'Sở GDĐT Hà Giang', 'Toan': '6.80', 'Ngu_van': '5.75', 'Ngoai_ngu': '2.60', 'Vat_ly': '', 'Hoa_hoc': '', 'Sinh_hoc': '', 'Diem_KHTN': '', 'Lich_su': '8.75', 'Dia_ly': '7.75', 'GDCD': '8.25', 'Diem_KHXH': '8.42'}\n",
      "{'SBD': '06002002', 'Cum_thi': 'Sở GDĐT Cao Bằng', 'Toan': '6.40', 'Ngu_van': '6.75', 'Ngoai_ngu': '3.00', 'Vat_ly': '', 'Hoa_hoc': '', 'Sinh_hoc': '', 'Diem_KHTN': '', 'Lich_su': '5.75', 'Dia_ly': '5.00', 'GDCD': '8.75', 'Diem_KHXH': '7.75'}\n",
      "{'SBD': '05003751', 'Cum_thi': 'Sở GDĐT Hà Giang', 'Toan': '2.80', 'Ngu_van': '3.75', 'Ngoai_ngu': '3.00', 'Vat_ly': '', 'Hoa_hoc': '', 'Sinh_hoc': '', 'Diem_KHTN': '', 'Lich_su': '6.00', 'Dia_ly': '5.00', 'GDCD': '8.25', 'Diem_KHXH': '7.50'}\n",
      "{'SBD': '05003752', 'Cum_thi': 'Sở GDĐT Hà Giang', 'Toan': '7.40', 'Ngu_van': '6.25', 'Ngoai_ngu': '7.00', 'Vat_ly': '', 'Hoa_hoc': '', 'Sinh_hoc': '', 'Diem_KHTN': '', 'Lich_su': '9.00', 'Dia_ly': '7.50', 'GDCD': '8.50', 'Diem_KHXH': '8.67'}\n",
      "{'SBD': '06002003', 'Cum_thi': 'Sở GDĐT Cao Bằng', 'Toan': '', 'Ngu_van': '7.50', 'Ngoai_ngu': '', 'Vat_ly': '', 'Hoa_hoc': '', 'Sinh_hoc': '', 'Diem_KHTN': '', 'Lich_su': '7.25', 'Dia_ly': '9.00', 'GDCD': '', 'Diem_KHXH': ''}\n",
      "{'SBD': '05003753', 'Cum_thi': 'Sở GDĐT Hà Giang', 'Toan': '4.00', 'Ngu_van': '6.50', 'Ngoai_ngu': '4.40', 'Vat_ly': '', 'Hoa_hoc': '', 'Sinh_hoc': '', 'Diem_KHTN': '', 'Lich_su': '6.50', 'Dia_ly': '6.75', 'GDCD': '8.00', 'Diem_KHXH': '7.50'}\n",
      "{'SBD': '06002004', 'Cum_thi': 'Sở GDĐT Cao Bằng', 'Toan': '8.20', 'Ngu_van': '6.75', 'Ngoai_ngu': '7.20', 'Vat_ly': '8.25', 'Hoa_hoc': '8.00', 'Sinh_hoc': '6.50', 'Diem_KHTN': '7.58', 'Lich_su': '', 'Dia_ly': '', 'GDCD': '', 'Diem_KHXH': ''}\n",
      "{'SBD': '06002005', 'Cum_thi': 'Sở GDĐT Cao Bằng', 'Toan': '3.60', 'Ngu_van': '8.25', 'Ngoai_ngu': '3.60', 'Vat_ly': '', 'Hoa_hoc': '', 'Sinh_hoc': '', 'Diem_KHTN': '', 'Lich_su': '5.25', 'Dia_ly': '4.75', 'GDCD': '6.50', 'Diem_KHXH': '6.08'}\n",
      "{'SBD': '05003754', 'Cum_thi': 'Sở GDĐT Hà Giang', 'Toan': '2.60', 'Ngu_van': '4.00', 'Ngoai_ngu': '3.40', 'Vat_ly': '', 'Hoa_hoc': '', 'Sinh_hoc': '', 'Diem_KHTN': '', 'Lich_su': '2.75', 'Dia_ly': '4.25', 'GDCD': '3.25', 'Diem_KHXH': '3.08'}\n",
      "{'SBD': '06002006', 'Cum_thi': 'Sở GDĐT Cao Bằng', 'Toan': '5.80', 'Ngu_van': '6.50', 'Ngoai_ngu': '', 'Vat_ly': '', 'Hoa_hoc': '', 'Sinh_hoc': '', 'Diem_KHTN': '', 'Lich_su': '7.25', 'Dia_ly': '', 'GDCD': '', 'Diem_KHXH': ''}\n",
      "{'SBD': '05003755', 'Cum_thi': 'Sở GDĐT Hà Giang', 'Toan': '1.40', 'Ngu_van': '4.00', 'Ngoai_ngu': '', 'Vat_ly': '', 'Hoa_hoc': '', 'Sinh_hoc': '', 'Diem_KHTN': '', 'Lich_su': '4.00', 'Dia_ly': '5.00', 'GDCD': '', 'Diem_KHXH': ''}\n",
      "{'SBD': '06002007', 'Cum_thi': 'Sở GDĐT Cao Bằng', 'Toan': '5.60', 'Ngu_van': '6.75', 'Ngoai_ngu': '3.40', 'Vat_ly': '', 'Hoa_hoc': '', 'Sinh_hoc': '', 'Diem_KHTN': '', 'Lich_su': '5.00', 'Dia_ly': '5.75', 'GDCD': '7.50', 'Diem_KHXH': '6.67'}\n",
      "{'SBD': '05003756', 'Cum_thi': 'Sở GDĐT Hà Giang', 'Toan': '3.40', 'Ngu_van': '6.25', 'Ngoai_ngu': '2.00', 'Vat_ly': '', 'Hoa_hoc': '', 'Sinh_hoc': '', 'Diem_KHTN': '', 'Lich_su': '5.25', 'Dia_ly': '7.25', 'GDCD': '8.00', 'Diem_KHXH': '7.08'}\n",
      "{'SBD': '06002008', 'Cum_thi': 'Sở GDĐT Cao Bằng', 'Toan': '6.60', 'Ngu_van': '6.00', 'Ngoai_ngu': '3.20', 'Vat_ly': '', 'Hoa_hoc': '', 'Sinh_hoc': '', 'Diem_KHTN': '', 'Lich_su': '6.00', 'Dia_ly': '8.75', 'GDCD': '8.50', 'Diem_KHXH': '7.67'}\n",
      "{'SBD': '05003757', 'Cum_thi': 'Sở GDĐT Hà Giang', 'Toan': '4.60', 'Ngu_van': '5.50', 'Ngoai_ngu': '5.60', 'Vat_ly': '4.00', 'Hoa_hoc': '6.00', 'Sinh_hoc': '6.50', 'Diem_KHTN': '5.50', 'Lich_su': '', 'Dia_ly': '', 'GDCD': '', 'Diem_KHXH': ''}\n",
      "{'SBD': '06002009', 'Cum_thi': 'Sở GDĐT Cao Bằng', 'Toan': '5.00', 'Ngu_van': '8.25', 'Ngoai_ngu': '3.80', 'Vat_ly': '', 'Hoa_hoc': '', 'Sinh_hoc': '', 'Diem_KHTN': '', 'Lich_su': '4.50', 'Dia_ly': '6.25', 'GDCD': '8.25', 'Diem_KHXH': '7.00'}\n",
      "{'SBD': '05003758', 'Cum_thi': 'Sở GDĐT Hà Giang', 'Toan': '1.80', 'Ngu_van': '3.50', 'Ngoai_ngu': '1.60', 'Vat_ly': '', 'Hoa_hoc': '', 'Sinh_hoc': '', 'Diem_KHTN': '', 'Lich_su': '4.00', 'Dia_ly': '2.75', 'GDCD': '5.00', 'Diem_KHXH': '4.67'}\n",
      "{'SBD': '06002010', 'Cum_thi': 'Sở GDĐT Cao Bằng', 'Toan': '5.40', 'Ngu_van': '6.25', 'Ngoai_ngu': '6.20', 'Vat_ly': '', 'Hoa_hoc': '', 'Sinh_hoc': '', 'Diem_KHTN': '', 'Lich_su': '6.25', 'Dia_ly': '5.75', 'GDCD': '9.00', 'Diem_KHXH': '8.08'}\n",
      "{'SBD': '05003759', 'Cum_thi': 'Sở GDĐT Hà Giang', 'Toan': '1.80', 'Ngu_van': '4.75', 'Ngoai_ngu': '2.80', 'Vat_ly': '', 'Hoa_hoc': '', 'Sinh_hoc': '', 'Diem_KHTN': '', 'Lich_su': '2.75', 'Dia_ly': '3.50', 'GDCD': '5.25', 'Diem_KHXH': '4.42'}\n",
      "{'SBD': '06002011', 'Cum_thi': 'Sở GDĐT Cao Bằng', 'Toan': '4.40', 'Ngu_van': '6.00', 'Ngoai_ngu': '', 'Vat_ly': '', 'Hoa_hoc': '', 'Sinh_hoc': '', 'Diem_KHTN': '', 'Lich_su': '2.75', 'Dia_ly': '5.25', 'GDCD': '', 'Diem_KHXH': ''}\n",
      "{'SBD': '05003760', 'Cum_thi': 'Sở GDĐT Hà Giang', 'Toan': '1.60', 'Ngu_van': '3.75', 'Ngoai_ngu': '', 'Vat_ly': '', 'Hoa_hoc': '', 'Sinh_hoc': '', 'Diem_KHTN': '', 'Lich_su': '1.75', 'Dia_ly': '4.50', 'GDCD': '', 'Diem_KHXH': ''}\n",
      "{'SBD': '06002012', 'Cum_thi': 'Sở GDĐT Cao Bằng', 'Toan': '7.00', 'Ngu_van': '6.50', 'Ngoai_ngu': '4.60', 'Vat_ly': '6.00', 'Hoa_hoc': '5.75', 'Sinh_hoc': '4.75', 'Diem_KHTN': '5.50', 'Lich_su': '', 'Dia_ly': '', 'GDCD': '', 'Diem_KHXH': ''}\n",
      "{'SBD': '05003761', 'Cum_thi': 'Sở GDĐT Hà Giang', 'Toan': '5.00', 'Ngu_van': '4.50', 'Ngoai_ngu': '5.00', 'Vat_ly': '', 'Hoa_hoc': '', 'Sinh_hoc': '', 'Diem_KHTN': '', 'Lich_su': '7.25', 'Dia_ly': '7.25', 'GDCD': '8.75', 'Diem_KHXH': '8.25'}\n",
      "{'SBD': '06002013', 'Cum_thi': 'Sở GDĐT Cao Bằng', 'Toan': '6.80', 'Ngu_van': '7.75', 'Ngoai_ngu': '5.20', 'Vat_ly': '', 'Hoa_hoc': '', 'Sinh_hoc': '', 'Diem_KHTN': '', 'Lich_su': '8.50', 'Dia_ly': '9.00', 'GDCD': '9.50', 'Diem_KHXH': '9.17'}\n",
      "{'SBD': '05003762', 'Cum_thi': 'Sở GDĐT Hà Giang', 'Toan': '1.40', 'Ngu_van': '3.25', 'Ngoai_ngu': '', 'Vat_ly': '', 'Hoa_hoc': '', 'Sinh_hoc': '', 'Diem_KHTN': '', 'Lich_su': '4.50', 'Dia_ly': '3.75', 'GDCD': '', 'Diem_KHXH': ''}\n",
      "{'SBD': '06002014', 'Cum_thi': 'Sở GDĐT Cao Bằng', 'Toan': '7.40', 'Ngu_van': '', 'Ngoai_ngu': '', 'Vat_ly': '7.00', 'Hoa_hoc': '7.25', 'Sinh_hoc': '', 'Diem_KHTN': '', 'Lich_su': '', 'Dia_ly': '', 'GDCD': '', 'Diem_KHXH': ''}\n",
      "{'SBD': '05003763', 'Cum_thi': 'Sở GDĐT Hà Giang', 'Toan': '2.60', 'Ngu_van': '3.25', 'Ngoai_ngu': '', 'Vat_ly': '', 'Hoa_hoc': '', 'Sinh_hoc': '', 'Diem_KHTN': '', 'Lich_su': '3.75', 'Dia_ly': '6.00', 'GDCD': '', 'Diem_KHXH': ''}\n",
      "{'SBD': '06002015', 'Cum_thi': 'Sở GDĐT Cao Bằng', 'Toan': '4.80', 'Ngu_van': '6.32', 'Ngoai_ngu': '3.40', 'Vat_ly': '', 'Hoa_hoc': '', 'Sinh_hoc': '', 'Diem_KHTN': '', 'Lich_su': '6.50', 'Dia_ly': '8.00', 'GDCD': '9.00', 'Diem_KHXH': '8.17'}\n",
      "{'SBD': '05003764', 'Cum_thi': 'Sở GDĐT Hà Giang', 'Toan': '2.20', 'Ngu_van': '3.25', 'Ngoai_ngu': '', 'Vat_ly': '', 'Hoa_hoc': '', 'Sinh_hoc': '', 'Diem_KHTN': '', 'Lich_su': '3.00', 'Dia_ly': '', 'GDCD': '', 'Diem_KHXH': ''}\n",
      "{'SBD': '06002016', 'Cum_thi': 'Sở GDĐT Cao Bằng', 'Toan': '7.40', 'Ngu_van': '7.75', 'Ngoai_ngu': '7.20', 'Vat_ly': '7.25', 'Hoa_hoc': '7.00', 'Sinh_hoc': '5.75', 'Diem_KHTN': '6.67', 'Lich_su': '', 'Dia_ly': '', 'GDCD': '', 'Diem_KHXH': ''}\n",
      "{'SBD': '06002017', 'Cum_thi': 'Sở GDĐT Cao Bằng', 'Toan': '7.20', 'Ngu_van': '6.00', 'Ngoai_ngu': '4.00', 'Vat_ly': '', 'Hoa_hoc': '', 'Sinh_hoc': '', 'Diem_KHTN': '', 'Lich_su': '6.75', 'Dia_ly': '7.25', 'GDCD': '8.50', 'Diem_KHXH': '7.92'}\n",
      "{'SBD': '05003766', 'Cum_thi': 'Sở GDĐT Hà Giang', 'Toan': '2.80', 'Ngu_van': '3.75', 'Ngoai_ngu': '2.20', 'Vat_ly': '', 'Hoa_hoc': '', 'Sinh_hoc': '', 'Diem_KHTN': '', 'Lich_su': '6.00', 'Dia_ly': '6.75', 'GDCD': '6.00', 'Diem_KHXH': '6.00'}\n",
      "{'SBD': '05003767', 'Cum_thi': 'Sở GDĐT Hà Giang', 'Toan': '3.00', 'Ngu_van': '2.50', 'Ngoai_ngu': '', 'Vat_ly': '', 'Hoa_hoc': '', 'Sinh_hoc': '', 'Diem_KHTN': '', 'Lich_su': '2.25', 'Dia_ly': '4.00', 'GDCD': '', 'Diem_KHXH': ''}\n",
      "11111111111111111111111111111111111111111111111111111111111111111\n",
      "11111111111111111111111111111111111111111111111111111111111111111\n"
     ]
    }
   ],
   "source": [
    "# ma_tinh = '01'\n",
    "chrome_path = '/home/hai/Documents/Project/chromedriver_linux64/chromedriver'\n",
    "save_path = '/home/hai/Documents/Project/CrawlDiemthi2020/data'\n",
    "so_luong = 30000\n",
    "# bat dau crawl\n",
    "# Crawler2020(ma_tinh, chrome_path, save_path, so_luong)\n",
    "\n",
    "t1 = threading.Thread(target = Crawler2020, args=('05', chrome_path, save_path, ))\n",
    "t2 = threading.Thread(target = Crawler2020, args=('06', chrome_path, save_path, ))\n",
    "\n",
    "t1.start()\n",
    "t2.start()\n",
    "\n",
    "t1.join()\n",
    "t2.join()"
   ]
  },
  {
   "cell_type": "code",
   "execution_count": null,
   "id": "70e7eafe",
   "metadata": {},
   "outputs": [],
   "source": []
  }
 ],
 "metadata": {
  "kernelspec": {
   "display_name": "Python 3",
   "language": "python",
   "name": "python3"
  },
  "language_info": {
   "codemirror_mode": {
    "name": "ipython",
    "version": 3
   },
   "file_extension": ".py",
   "mimetype": "text/x-python",
   "name": "python",
   "nbconvert_exporter": "python",
   "pygments_lexer": "ipython3",
   "version": "3.8.8"
  }
 },
 "nbformat": 4,
 "nbformat_minor": 5
}
