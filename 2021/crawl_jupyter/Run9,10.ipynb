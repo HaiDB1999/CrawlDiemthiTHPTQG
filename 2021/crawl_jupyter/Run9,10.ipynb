{
 "cells": [
  {
   "cell_type": "code",
   "execution_count": 1,
   "id": "561b66fc",
   "metadata": {},
   "outputs": [],
   "source": [
    "# !pip install selenium\n",
    "# !pip install pandas"
   ]
  },
  {
   "cell_type": "code",
   "execution_count": 2,
   "id": "7b1d7486",
   "metadata": {},
   "outputs": [],
   "source": [
    "from selenium import webdriver\n",
    "from selenium.common.exceptions import NoSuchElementException\n",
    "from selenium.webdriver.chrome.options import Options\n",
    "from selenium.webdriver.common.keys import Keys\n",
    "import threading\n",
    "import pandas as pd\n",
    "import re\n",
    "import time\n",
    "import os\n",
    "\n",
    "os.chdir(os.path.dirname(os.getcwd()))\n",
    "from Crawl import Crawler2020"
   ]
  },
  {
   "cell_type": "code",
   "execution_count": 3,
   "id": "ff4d880c",
   "metadata": {},
   "outputs": [
    {
     "name": "stdout",
     "output_type": "stream",
     "text": [
      "{'SBD': '09000001', 'Cum_thi': 'Sở GDĐT Tuyên Quang', 'Toan': '7.80', 'Ngu_van': '6.25', 'Ngoai_ngu': '2.40', 'Vat_ly': '', 'Hoa_hoc': '', 'Sinh_hoc': '', 'Diem_KHTN': '', 'Lich_su': '3.75', 'Dia_ly': '7.25', 'GDCD': '8.50', 'Diem_KHXH': '6.92'}\n",
      "{'SBD': '10000001', 'Cum_thi': 'Sở GDĐT Lạng Sơn', 'Toan': '9.20', 'Ngu_van': '5.75', 'Ngoai_ngu': '5.80', 'Vat_ly': '7.75', 'Hoa_hoc': '8.75', 'Sinh_hoc': '3.25', 'Diem_KHTN': '6.58', 'Lich_su': '', 'Dia_ly': '', 'GDCD': '', 'Diem_KHXH': ''}\n",
      "{'SBD': '09000002', 'Cum_thi': 'Sở GDĐT Tuyên Quang', 'Toan': '7.40', 'Ngu_van': '8.50', 'Ngoai_ngu': '4.00', 'Vat_ly': '', 'Hoa_hoc': '', 'Sinh_hoc': '', 'Diem_KHTN': '', 'Lich_su': '5.75', 'Dia_ly': '8.50', 'GDCD': '9.25', 'Diem_KHXH': '8.08'}\n",
      "{'SBD': '10000002', 'Cum_thi': 'Sở GDĐT Lạng Sơn', 'Toan': '8.60', 'Ngu_van': '8.75', 'Ngoai_ngu': '6.80', 'Vat_ly': '', 'Hoa_hoc': '', 'Sinh_hoc': '', 'Diem_KHTN': '', 'Lich_su': '9.00', 'Dia_ly': '7.75', 'GDCD': '8.25', 'Diem_KHXH': '8.50'}\n",
      "{'SBD': '09000003', 'Cum_thi': 'Sở GDĐT Tuyên Quang', 'Toan': '7.80', 'Ngu_van': '7.75', 'Ngoai_ngu': '5.60', 'Vat_ly': '6.75', 'Hoa_hoc': '7.50', 'Sinh_hoc': '6.75', 'Diem_KHTN': '7.00', 'Lich_su': '', 'Dia_ly': '', 'GDCD': '', 'Diem_KHXH': ''}\n",
      "{'SBD': '10000003', 'Cum_thi': 'Sở GDĐT Lạng Sơn', 'Toan': '6.60', 'Ngu_van': '6.75', 'Ngoai_ngu': '7.00', 'Vat_ly': '', 'Hoa_hoc': '', 'Sinh_hoc': '', 'Diem_KHTN': '', 'Lich_su': '6.00', 'Dia_ly': '6.00', 'GDCD': '8.00', 'Diem_KHXH': '7.33'}\n",
      "{'SBD': '09000004', 'Cum_thi': 'Sở GDĐT Tuyên Quang', 'Toan': '6.60', 'Ngu_van': '8.50', 'Ngoai_ngu': '4.40', 'Vat_ly': '', 'Hoa_hoc': '', 'Sinh_hoc': '', 'Diem_KHTN': '', 'Lich_su': '7.75', 'Dia_ly': '7.50', 'GDCD': '8.00', 'Diem_KHXH': '7.92'}\n",
      "{'SBD': '10000004', 'Cum_thi': 'Sở GDĐT Lạng Sơn', 'Toan': '9.60', 'Ngu_van': '5.50', 'Ngoai_ngu': '5.00', 'Vat_ly': '8.25', 'Hoa_hoc': '10.00', 'Sinh_hoc': '5.25', 'Diem_KHTN': '7.83', 'Lich_su': '', 'Dia_ly': '', 'GDCD': '', 'Diem_KHXH': ''}\n",
      "{'SBD': '09000005', 'Cum_thi': 'Sở GDĐT Tuyên Quang', 'Toan': '5.40', 'Ngu_van': '8.25', 'Ngoai_ngu': '3.00', 'Vat_ly': '', 'Hoa_hoc': '', 'Sinh_hoc': '', 'Diem_KHTN': '', 'Lich_su': '6.75', 'Dia_ly': '7.75', 'GDCD': '8.25', 'Diem_KHXH': '7.75'}\n",
      "{'SBD': '10000005', 'Cum_thi': 'Sở GDĐT Lạng Sơn', 'Toan': '3.00', 'Ngu_van': '7.00', 'Ngoai_ngu': '2.80', 'Vat_ly': '', 'Hoa_hoc': '', 'Sinh_hoc': '', 'Diem_KHTN': '', 'Lich_su': '5.00', 'Dia_ly': '7.50', 'GDCD': '7.00', 'Diem_KHXH': '6.33'}\n",
      "{'SBD': '09000006', 'Cum_thi': 'Sở GDĐT Tuyên Quang', 'Toan': '7.40', 'Ngu_van': '8.50', 'Ngoai_ngu': '4.40', 'Vat_ly': '', 'Hoa_hoc': '', 'Sinh_hoc': '', 'Diem_KHTN': '', 'Lich_su': '7.25', 'Dia_ly': '6.75', 'GDCD': '8.25', 'Diem_KHXH': '7.92'}\n",
      "{'SBD': '10000006', 'Cum_thi': 'Sở GDĐT Lạng Sơn', 'Toan': '7.40', 'Ngu_van': '8.50', 'Ngoai_ngu': '8.60', 'Vat_ly': '', 'Hoa_hoc': '', 'Sinh_hoc': '', 'Diem_KHTN': '', 'Lich_su': '6.25', 'Dia_ly': '8.75', 'GDCD': '8.75', 'Diem_KHXH': '7.92'}\n",
      "{'SBD': '09000007', 'Cum_thi': 'Sở GDĐT Tuyên Quang', 'Toan': '4.60', 'Ngu_van': '7.00', 'Ngoai_ngu': '3.80', 'Vat_ly': '', 'Hoa_hoc': '', 'Sinh_hoc': '', 'Diem_KHTN': '', 'Lich_su': '5.25', 'Dia_ly': '7.50', 'GDCD': '7.25', 'Diem_KHXH': '6.58'}\n",
      "{'SBD': '09000008', 'Cum_thi': 'Sở GDĐT Tuyên Quang', 'Toan': '5.80', 'Ngu_van': '8.00', 'Ngoai_ngu': '4.60', 'Vat_ly': '', 'Hoa_hoc': '', 'Sinh_hoc': '', 'Diem_KHTN': '', 'Lich_su': '5.75', 'Dia_ly': '5.75', 'GDCD': '7.75', 'Diem_KHXH': '7.08'}\n",
      "{'SBD': '10000007', 'Cum_thi': 'Sở GDĐT Lạng Sơn', 'Toan': '2.00', 'Ngu_van': '7.00', 'Ngoai_ngu': '4.20', 'Vat_ly': '', 'Hoa_hoc': '', 'Sinh_hoc': '', 'Diem_KHTN': '', 'Lich_su': '4.50', 'Dia_ly': '6.75', 'GDCD': '7.25', 'Diem_KHXH': '6.33'}\n",
      "{'SBD': '09000009', 'Cum_thi': 'Sở GDĐT Tuyên Quang', 'Toan': '4.20', 'Ngu_van': '8.00', 'Ngoai_ngu': '2.40', 'Vat_ly': '', 'Hoa_hoc': '', 'Sinh_hoc': '', 'Diem_KHTN': '', 'Lich_su': '9.25', 'Dia_ly': '8.25', 'GDCD': '8.75', 'Diem_KHXH': '8.92'}\n",
      "{'SBD': '10000008', 'Cum_thi': 'Sở GDĐT Lạng Sơn', 'Toan': '8.00', 'Ngu_van': '8.25', 'Ngoai_ngu': '6.20', 'Vat_ly': '', 'Hoa_hoc': '', 'Sinh_hoc': '', 'Diem_KHTN': '', 'Lich_su': '5.00', 'Dia_ly': '8.50', 'GDCD': '7.25', 'Diem_KHXH': '6.50'}\n",
      "{'SBD': '09000010', 'Cum_thi': 'Sở GDĐT Tuyên Quang', 'Toan': '6.20', 'Ngu_van': '7.75', 'Ngoai_ngu': '4.80', 'Vat_ly': '', 'Hoa_hoc': '', 'Sinh_hoc': '', 'Diem_KHTN': '', 'Lich_su': '5.00', 'Dia_ly': '8.00', 'GDCD': '9.00', 'Diem_KHXH': '7.67'}\n",
      "{'SBD': '10000009', 'Cum_thi': 'Sở GDĐT Lạng Sơn', 'Toan': '8.80', 'Ngu_van': '9.00', 'Ngoai_ngu': '8.20', 'Vat_ly': '', 'Hoa_hoc': '', 'Sinh_hoc': '', 'Diem_KHTN': '', 'Lich_su': '7.25', 'Dia_ly': '8.50', 'GDCD': '8.50', 'Diem_KHXH': '8.08'}\n",
      "{'SBD': '10000010', 'Cum_thi': 'Sở GDĐT Lạng Sơn', 'Toan': '3.80', 'Ngu_van': '5.00', 'Ngoai_ngu': '3.20', 'Vat_ly': '', 'Hoa_hoc': '', 'Sinh_hoc': '', 'Diem_KHTN': '', 'Lich_su': '5.00', 'Dia_ly': '6.25', 'GDCD': '7.25', 'Diem_KHXH': '6.50'}\n",
      "{'SBD': '09000011', 'Cum_thi': 'Sở GDĐT Tuyên Quang', 'Toan': '5.20', 'Ngu_van': '6.25', 'Ngoai_ngu': '4.80', 'Vat_ly': '', 'Hoa_hoc': '', 'Sinh_hoc': '', 'Diem_KHTN': '', 'Lich_su': '5.75', 'Dia_ly': '7.25', 'GDCD': '9.25', 'Diem_KHXH': '8.08'}\n",
      "{'SBD': '09000012', 'Cum_thi': 'Sở GDĐT Tuyên Quang', 'Toan': '6.80', 'Ngu_van': '7.50', 'Ngoai_ngu': '5.20', 'Vat_ly': '', 'Hoa_hoc': '', 'Sinh_hoc': '', 'Diem_KHTN': '', 'Lich_su': '5.50', 'Dia_ly': '7.00', 'GDCD': '8.50', 'Diem_KHXH': '7.50'}\n",
      "{'SBD': '10000011', 'Cum_thi': 'Sở GDĐT Lạng Sơn', 'Toan': '9.20', 'Ngu_van': '7.75', 'Ngoai_ngu': '7.60', 'Vat_ly': '8.25', 'Hoa_hoc': '5.00', 'Sinh_hoc': '6.25', 'Diem_KHTN': '6.50', 'Lich_su': '', 'Dia_ly': '', 'GDCD': '', 'Diem_KHXH': ''}\n",
      "{'SBD': '10000012', 'Cum_thi': 'Sở GDĐT Lạng Sơn', 'Toan': '3.80', 'Ngu_van': '5.00', 'Ngoai_ngu': '', 'Vat_ly': '', 'Hoa_hoc': '', 'Sinh_hoc': '', 'Diem_KHTN': '', 'Lich_su': '4.50', 'Dia_ly': '6.25', 'GDCD': '', 'Diem_KHXH': ''}\n",
      "{'SBD': '09000013', 'Cum_thi': 'Sở GDĐT Tuyên Quang', 'Toan': '6.00', 'Ngu_van': '6.25', 'Ngoai_ngu': '2.60', 'Vat_ly': '', 'Hoa_hoc': '', 'Sinh_hoc': '', 'Diem_KHTN': '', 'Lich_su': '6.75', 'Dia_ly': '7.75', 'GDCD': '8.00', 'Diem_KHXH': '7.58'}\n",
      "{'SBD': '10000013', 'Cum_thi': 'Sở GDĐT Lạng Sơn', 'Toan': '7.60', 'Ngu_van': '8.00', 'Ngoai_ngu': '7.00', 'Vat_ly': '', 'Hoa_hoc': '', 'Sinh_hoc': '', 'Diem_KHTN': '', 'Lich_su': '5.75', 'Dia_ly': '7.25', 'GDCD': '7.75', 'Diem_KHXH': '7.08'}\n",
      "{'SBD': '09000014', 'Cum_thi': 'Sở GDĐT Tuyên Quang', 'Toan': '8.40', 'Ngu_van': '6.75', 'Ngoai_ngu': '3.20', 'Vat_ly': '8.00', 'Hoa_hoc': '6.50', 'Sinh_hoc': '4.25', 'Diem_KHTN': '6.25', 'Lich_su': '', 'Dia_ly': '', 'GDCD': '', 'Diem_KHXH': ''}\n",
      "{'SBD': '10000014', 'Cum_thi': 'Sở GDĐT Lạng Sơn', 'Toan': '5.80', 'Ngu_van': '6.75', 'Ngoai_ngu': '6.00', 'Vat_ly': '', 'Hoa_hoc': '', 'Sinh_hoc': '', 'Diem_KHTN': '', 'Lich_su': '9.00', 'Dia_ly': '8.50', 'GDCD': '7.50', 'Diem_KHXH': '8.00'}\n",
      "{'SBD': '09000015', 'Cum_thi': 'Sở GDĐT Tuyên Quang', 'Toan': '7.40', 'Ngu_van': '7.75', 'Ngoai_ngu': '4.00', 'Vat_ly': '', 'Hoa_hoc': '', 'Sinh_hoc': '', 'Diem_KHTN': '', 'Lich_su': '7.00', 'Dia_ly': '8.25', 'GDCD': '8.75', 'Diem_KHXH': '8.17'}\n",
      "{'SBD': '10000015', 'Cum_thi': 'Sở GDĐT Lạng Sơn', 'Toan': '8.20', 'Ngu_van': '8.25', 'Ngoai_ngu': '5.20', 'Vat_ly': '7.50', 'Hoa_hoc': '8.00', 'Sinh_hoc': '5.25', 'Diem_KHTN': '6.92', 'Lich_su': '', 'Dia_ly': '', 'GDCD': '', 'Diem_KHXH': ''}\n",
      "{'SBD': '09000016', 'Cum_thi': 'Sở GDĐT Tuyên Quang', 'Toan': '6.00', 'Ngu_van': '7.00', 'Ngoai_ngu': '3.80', 'Vat_ly': '', 'Hoa_hoc': '', 'Sinh_hoc': '', 'Diem_KHTN': '', 'Lich_su': '5.25', 'Dia_ly': '5.50', 'GDCD': '6.75', 'Diem_KHXH': '6.25'}\n",
      "{'SBD': '10000016', 'Cum_thi': 'Sở GDĐT Lạng Sơn', 'Toan': '9.20', 'Ngu_van': '7.50', 'Ngoai_ngu': '6.00', 'Vat_ly': '6.00', 'Hoa_hoc': '8.25', 'Sinh_hoc': '8.50', 'Diem_KHTN': '7.58', 'Lich_su': '', 'Dia_ly': '', 'GDCD': '', 'Diem_KHXH': ''}\n",
      "{'SBD': '09000017', 'Cum_thi': 'Sở GDĐT Tuyên Quang', 'Toan': '4.20', 'Ngu_van': '7.50', 'Ngoai_ngu': '4.60', 'Vat_ly': '', 'Hoa_hoc': '', 'Sinh_hoc': '', 'Diem_KHTN': '', 'Lich_su': '4.50', 'Dia_ly': '6.25', 'GDCD': '8.25', 'Diem_KHXH': '7.00'}\n",
      "{'SBD': '10000017', 'Cum_thi': 'Sở GDĐT Lạng Sơn', 'Toan': '8.60', 'Ngu_van': '6.50', 'Ngoai_ngu': '6.80', 'Vat_ly': '3.75', 'Hoa_hoc': '8.50', 'Sinh_hoc': '6.75', 'Diem_KHTN': '6.33', 'Lich_su': '', 'Dia_ly': '', 'GDCD': '', 'Diem_KHXH': ''}\n"
     ]
    },
    {
     "name": "stdout",
     "output_type": "stream",
     "text": [
      "{'SBD': '09000018', 'Cum_thi': 'Sở GDĐT Tuyên Quang', 'Toan': '9.20', 'Ngu_van': '8.75', 'Ngoai_ngu': '8.80', 'Vat_ly': '', 'Hoa_hoc': '', 'Sinh_hoc': '', 'Diem_KHTN': '', 'Lich_su': '8.75', 'Dia_ly': '9.00', 'GDCD': '9.50', 'Diem_KHXH': '9.25'}\n",
      "{'SBD': '10000018', 'Cum_thi': 'Sở GDĐT Lạng Sơn', 'Toan': '7.00', 'Ngu_van': '7.25', 'Ngoai_ngu': '6.20', 'Vat_ly': '', 'Hoa_hoc': '', 'Sinh_hoc': '', 'Diem_KHTN': '', 'Lich_su': '7.25', 'Dia_ly': '7.50', 'GDCD': '6.50', 'Diem_KHXH': '6.75'}\n",
      "{'SBD': '09000019', 'Cum_thi': 'Sở GDĐT Tuyên Quang', 'Toan': '7.40', 'Ngu_van': '8.00', 'Ngoai_ngu': '4.20', 'Vat_ly': '', 'Hoa_hoc': '', 'Sinh_hoc': '', 'Diem_KHTN': '', 'Lich_su': '9.25', 'Dia_ly': '8.25', 'GDCD': '8.75', 'Diem_KHXH': '8.92'}\n",
      "{'SBD': '10000019', 'Cum_thi': 'Sở GDĐT Lạng Sơn', 'Toan': '9.00', 'Ngu_van': '5.50', 'Ngoai_ngu': '3.40', 'Vat_ly': '8.50', 'Hoa_hoc': '8.00', 'Sinh_hoc': '6.00', 'Diem_KHTN': '7.50', 'Lich_su': '', 'Dia_ly': '', 'GDCD': '', 'Diem_KHXH': ''}\n",
      "{'SBD': '09000020', 'Cum_thi': 'Sở GDĐT Tuyên Quang', 'Toan': '5.00', 'Ngu_van': '7.00', 'Ngoai_ngu': '3.20', 'Vat_ly': '', 'Hoa_hoc': '', 'Sinh_hoc': '', 'Diem_KHTN': '', 'Lich_su': '9.25', 'Dia_ly': '9.00', 'GDCD': '9.25', 'Diem_KHXH': '9.25'}\n",
      "{'SBD': '09000021', 'Cum_thi': 'Sở GDĐT Tuyên Quang', 'Toan': '7.80', 'Ngu_van': '6.75', 'Ngoai_ngu': '4.40', 'Vat_ly': '', 'Hoa_hoc': '', 'Sinh_hoc': '', 'Diem_KHTN': '', 'Lich_su': '7.00', 'Dia_ly': '7.50', 'GDCD': '9.00', 'Diem_KHXH': '8.33'}\n",
      "{'SBD': '10000020', 'Cum_thi': 'Sở GDĐT Lạng Sơn', 'Toan': '8.20', 'Ngu_van': '5.50', 'Ngoai_ngu': '9.00', 'Vat_ly': '8.50', 'Hoa_hoc': '8.00', 'Sinh_hoc': '6.75', 'Diem_KHTN': '7.75', 'Lich_su': '', 'Dia_ly': '', 'GDCD': '', 'Diem_KHXH': ''}\n",
      "{'SBD': '10000021', 'Cum_thi': 'Sở GDĐT Lạng Sơn', 'Toan': '7.40', 'Ngu_van': '7.75', 'Ngoai_ngu': '7.00', 'Vat_ly': '', 'Hoa_hoc': '', 'Sinh_hoc': '', 'Diem_KHTN': '', 'Lich_su': '5.75', 'Dia_ly': '7.75', 'GDCD': '9.25', 'Diem_KHXH': '8.08'}\n",
      "{'SBD': '09000022', 'Cum_thi': 'Sở GDĐT Tuyên Quang', 'Toan': '6.00', 'Ngu_van': '7.25', 'Ngoai_ngu': '4.00', 'Vat_ly': '', 'Hoa_hoc': '', 'Sinh_hoc': '', 'Diem_KHTN': '', 'Lich_su': '7.75', 'Dia_ly': '8.25', 'GDCD': '9.25', 'Diem_KHXH': '8.75'}\n",
      "{'SBD': '10000022', 'Cum_thi': 'Sở GDĐT Lạng Sơn', 'Toan': '8.60', 'Ngu_van': '8.50', 'Ngoai_ngu': '8.60', 'Vat_ly': '', 'Hoa_hoc': '', 'Sinh_hoc': '', 'Diem_KHTN': '', 'Lich_su': '4.00', 'Dia_ly': '8.00', 'GDCD': '8.00', 'Diem_KHXH': '6.67'}\n",
      "{'SBD': '09000023', 'Cum_thi': 'Sở GDĐT Tuyên Quang', 'Toan': '6.60', 'Ngu_van': '7.25', 'Ngoai_ngu': '3.20', 'Vat_ly': '', 'Hoa_hoc': '', 'Sinh_hoc': '', 'Diem_KHTN': '', 'Lich_su': '7.25', 'Dia_ly': '7.75', 'GDCD': '8.25', 'Diem_KHXH': '7.92'}\n",
      "{'SBD': '10000023', 'Cum_thi': 'Sở GDĐT Lạng Sơn', 'Toan': '8.40', 'Ngu_van': '5.00', 'Ngoai_ngu': '5.00', 'Vat_ly': '5.25', 'Hoa_hoc': '9.00', 'Sinh_hoc': '7.50', 'Diem_KHTN': '7.25', 'Lich_su': '', 'Dia_ly': '', 'GDCD': '', 'Diem_KHXH': ''}\n",
      "{'SBD': '09000024', 'Cum_thi': 'Sở GDĐT Tuyên Quang', 'Toan': '8.00', 'Ngu_van': '8.00', 'Ngoai_ngu': '3.40', 'Vat_ly': '3.50', 'Hoa_hoc': '7.00', 'Sinh_hoc': '6.50', 'Diem_KHTN': '5.67', 'Lich_su': '', 'Dia_ly': '', 'GDCD': '', 'Diem_KHXH': ''}\n",
      "{'SBD': '10000024', 'Cum_thi': 'Sở GDĐT Lạng Sơn', 'Toan': '8.00', 'Ngu_van': '6.50', 'Ngoai_ngu': '5.20', 'Vat_ly': '3.25', 'Hoa_hoc': '7.50', 'Sinh_hoc': '4.75', 'Diem_KHTN': '5.17', 'Lich_su': '', 'Dia_ly': '', 'GDCD': '', 'Diem_KHXH': ''}\n",
      "{'SBD': '09000025', 'Cum_thi': 'Sở GDĐT Tuyên Quang', 'Toan': '5.00', 'Ngu_van': '7.50', 'Ngoai_ngu': '2.60', 'Vat_ly': '', 'Hoa_hoc': '', 'Sinh_hoc': '', 'Diem_KHTN': '', 'Lich_su': '7.75', 'Dia_ly': '8.00', 'GDCD': '8.25', 'Diem_KHXH': '8.08'}\n",
      "{'SBD': '10000025', 'Cum_thi': 'Sở GDĐT Lạng Sơn', 'Toan': '4.00', 'Ngu_van': '6.25', 'Ngoai_ngu': '4.60', 'Vat_ly': '', 'Hoa_hoc': '', 'Sinh_hoc': '', 'Diem_KHTN': '', 'Lich_su': '4.75', 'Dia_ly': '6.50', 'GDCD': '8.00', 'Diem_KHXH': '6.92'}\n",
      "{'SBD': '09000026', 'Cum_thi': 'Sở GDĐT Tuyên Quang', 'Toan': '4.60', 'Ngu_van': '7.50', 'Ngoai_ngu': '1.60', 'Vat_ly': '', 'Hoa_hoc': '', 'Sinh_hoc': '', 'Diem_KHTN': '', 'Lich_su': '7.25', 'Dia_ly': '7.00', 'GDCD': '7.75', 'Diem_KHXH': '7.58'}\n",
      "{'SBD': '10000026', 'Cum_thi': 'Sở GDĐT Lạng Sơn', 'Toan': '7.80', 'Ngu_van': '7.25', 'Ngoai_ngu': '6.40', 'Vat_ly': '', 'Hoa_hoc': '', 'Sinh_hoc': '', 'Diem_KHTN': '', 'Lich_su': '6.00', 'Dia_ly': '7.75', 'GDCD': '8.75', 'Diem_KHXH': '7.83'}\n",
      "{'SBD': '09000027', 'Cum_thi': 'Sở GDĐT Tuyên Quang', 'Toan': '8.40', 'Ngu_van': '8.50', 'Ngoai_ngu': '7.00', 'Vat_ly': '', 'Hoa_hoc': '', 'Sinh_hoc': '', 'Diem_KHTN': '', 'Lich_su': '8.00', 'Dia_ly': '7.50', 'GDCD': '9.25', 'Diem_KHXH': '8.83'}\n",
      "{'SBD': '10000029', 'Cum_thi': 'Sở GDĐT Lạng Sơn', 'Toan': '5.80', 'Ngu_van': '8.50', 'Ngoai_ngu': '4.60', 'Vat_ly': '', 'Hoa_hoc': '', 'Sinh_hoc': '', 'Diem_KHTN': '', 'Lich_su': '9.00', 'Dia_ly': '9.25', 'GDCD': '9.00', 'Diem_KHXH': '9.00'}\n",
      "{'SBD': '10000030', 'Cum_thi': 'Sở GDĐT Lạng Sơn', 'Toan': '8.60', 'Ngu_van': '8.25', 'Ngoai_ngu': '7.80', 'Vat_ly': '', 'Hoa_hoc': '', 'Sinh_hoc': '', 'Diem_KHTN': '', 'Lich_su': '7.25', 'Dia_ly': '8.75', 'GDCD': '8.50', 'Diem_KHXH': '8.08'}\n",
      "{'SBD': '10000031', 'Cum_thi': 'Sở GDĐT Lạng Sơn', 'Toan': '3.20', 'Ngu_van': '5.75', 'Ngoai_ngu': '', 'Vat_ly': '', 'Hoa_hoc': '', 'Sinh_hoc': '', 'Diem_KHTN': '', 'Lich_su': '4.75', 'Dia_ly': '5.00', 'GDCD': '', 'Diem_KHXH': ''}\n",
      "{'SBD': '10000032', 'Cum_thi': 'Sở GDĐT Lạng Sơn', 'Toan': '7.00', 'Ngu_van': '8.00', 'Ngoai_ngu': '4.40', 'Vat_ly': '', 'Hoa_hoc': '', 'Sinh_hoc': '', 'Diem_KHTN': '', 'Lich_su': '9.50', 'Dia_ly': '8.75', 'GDCD': '7.75', 'Diem_KHXH': '8.33'}\n",
      "{'SBD': '10000033', 'Cum_thi': 'Sở GDĐT Lạng Sơn', 'Toan': '4.00', 'Ngu_van': '3.25', 'Ngoai_ngu': '', 'Vat_ly': '', 'Hoa_hoc': '', 'Sinh_hoc': '', 'Diem_KHTN': '', 'Lich_su': '3.50', 'Dia_ly': '6.75', 'GDCD': '', 'Diem_KHXH': ''}\n",
      "11111111111111111111111111111111111111111111111111111111111111111\n",
      "{'SBD': '10000036', 'Cum_thi': 'Sở GDĐT Lạng Sơn', 'Toan': '5.20', 'Ngu_van': '5.50', 'Ngoai_ngu': '', 'Vat_ly': '', 'Hoa_hoc': '', 'Sinh_hoc': '', 'Diem_KHTN': '', 'Lich_su': '6.25', 'Dia_ly': '7.25', 'GDCD': '', 'Diem_KHXH': ''}\n"
     ]
    },
    {
     "name": "stderr",
     "output_type": "stream",
     "text": [
      "Exception in thread Thread-5:\n",
      "Traceback (most recent call last):\n",
      "  File \"/home/hai/anaconda3/lib/python3.8/threading.py\", line 932, in _bootstrap_inner\n",
      "    self.run()\n",
      "  File \"/home/hai/anaconda3/lib/python3.8/threading.py\", line 870, in run\n",
      "    self._target(*self._args, **self._kwargs)\n",
      "  File \"/home/hai/Documents/Project/CrawlDiemthi2020/Crawl.py\", line 52, in Crawler2020\n",
      "    description.clear()\n",
      "  File \"/home/hai/anaconda3/lib/python3.8/site-packages/selenium/webdriver/remote/webelement.py\", line 95, in clear\n",
      "    self._execute(Command.CLEAR_ELEMENT)\n",
      "  File \"/home/hai/anaconda3/lib/python3.8/site-packages/selenium/webdriver/remote/webelement.py\", line 633, in _execute\n",
      "    return self._parent.execute(command, params)\n",
      "  File \"/home/hai/anaconda3/lib/python3.8/site-packages/selenium/webdriver/remote/webdriver.py\", line 321, in execute\n",
      "    self.error_handler.check_response(response)\n",
      "  File \"/home/hai/anaconda3/lib/python3.8/site-packages/selenium/webdriver/remote/errorhandler.py\", line 242, in check_response\n",
      "    raise exception_class(message, screen, stacktrace)\n",
      "selenium.common.exceptions.WebDriverException: Message: unknown error: session deleted because of page crash\n",
      "from unknown error: cannot determine loading status\n",
      "from tab crashed\n",
      "  (Session info: headless chrome=91.0.4472.114)\n",
      "\n"
     ]
    }
   ],
   "source": [
    "# ma_tinh = '01'\n",
    "chrome_path = '/home/hai/Documents/Project/chromedriver_linux64/chromedriver'\n",
    "save_path = '/home/hai/Documents/Project/CrawlDiemthi2020/data'\n",
    "so_luong = 30000\n",
    "# bat dau crawl\n",
    "# Crawler2020(ma_tinh, chrome_path, save_path, so_luong)\n",
    "\n",
    "t1 = threading.Thread(target = Crawler2020, args=('09', chrome_path, save_path, ))\n",
    "t2 = threading.Thread(target = Crawler2020, args=('10', chrome_path, save_path, ))\n",
    "\n",
    "t1.start()\n",
    "t2.start()\n",
    "\n",
    "t1.join()\n",
    "t2.join()"
   ]
  },
  {
   "cell_type": "code",
   "execution_count": null,
   "id": "70e7eafe",
   "metadata": {},
   "outputs": [],
   "source": []
  }
 ],
 "metadata": {
  "kernelspec": {
   "display_name": "Python 3",
   "language": "python",
   "name": "python3"
  },
  "language_info": {
   "codemirror_mode": {
    "name": "ipython",
    "version": 3
   },
   "file_extension": ".py",
   "mimetype": "text/x-python",
   "name": "python",
   "nbconvert_exporter": "python",
   "pygments_lexer": "ipython3",
   "version": "3.8.8"
  }
 },
 "nbformat": 4,
 "nbformat_minor": 5
}
