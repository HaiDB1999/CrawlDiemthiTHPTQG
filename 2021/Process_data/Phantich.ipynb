{
 "cells": [
  {
   "cell_type": "code",
   "execution_count": 1,
   "id": "47113821",
   "metadata": {},
   "outputs": [],
   "source": [
    "import pyspark \n",
    "from pyspark.sql import SparkSession, DataFrame\n",
    "from pyspark import SparkConf, SparkContext\n",
    "import os\n",
    "import re\n",
    "import numpy as np\n",
    "import time\n",
    "from functools import reduce\n",
    "import pyspark.sql.functions as F\n",
    "import pyspark.sql.functions as f\n",
    "\n",
    "from pyspark.sql.types import FloatType, StringType, IntegerType\n",
    "from pyspark.sql.window import Window\n",
    "\n",
    "Location_master = 'spark://linux:7077'\n",
    "Location_master = 'local'\n",
    "try:\n",
    "    sparkSession.stop()\n",
    "except:\n",
    "    pass\n",
    "sparkSession = SparkSession \\\n",
    "    .builder \\\n",
    "    .master(Location_master)\\\n",
    "    .appName(\"Phan tich 2020\") \\\n",
    "    .config(\"spark.some.config.option\", \"some-value\") \\\n",
    "    .config(\"spark.executor.memory\", \"4g\") \\\n",
    "    .config('spark.cores.max','4')\\\n",
    "    .getOrCreate()"
   ]
  },
  {
   "cell_type": "code",
   "execution_count": 2,
   "id": "100f3070",
   "metadata": {},
   "outputs": [],
   "source": [
    "import pandas as pd\n",
    "import numpy as np\n",
    "import matplotlib.pyplot as plt\n",
    "\n",
    "# Make the graphs a bit prettier, and bigger\n",
    "plt.style.use(\n",
    "    'ggplot')\n",
    "plt.rcParams['figure.figsize'] = (15, 5)"
   ]
  },
  {
   "cell_type": "code",
   "execution_count": 3,
   "id": "3f3caf64",
   "metadata": {},
   "outputs": [
    {
     "name": "stdout",
     "output_type": "stream",
     "text": [
      "923140\n",
      "root\n",
      " |-- SBD: string (nullable = true)\n",
      " |-- Cum_thi: string (nullable = true)\n",
      " |-- Toan: string (nullable = true)\n",
      " |-- Ngu_van: string (nullable = true)\n",
      " |-- Ngoai_ngu: string (nullable = true)\n",
      " |-- Vat_ly: string (nullable = true)\n",
      " |-- Hoa_hoc: string (nullable = true)\n",
      " |-- Sinh_hoc: string (nullable = true)\n",
      " |-- KHTN: string (nullable = true)\n",
      " |-- Lich_su: string (nullable = true)\n",
      " |-- Dia_ly: string (nullable = true)\n",
      " |-- GDCD: string (nullable = true)\n",
      " |-- KHXH: string (nullable = true)\n",
      "\n",
      "+--------+-------+----+-------+---------+------+-------+--------+----+-------+------+----+----+\n",
      "|     SBD|Cum_thi|Toan|Ngu_van|Ngoai_ngu|Vat_ly|Hoa_hoc|Sinh_hoc|KHTN|Lich_su|Dia_ly|GDCD|KHXH|\n",
      "+--------+-------+----+-------+---------+------+-------+--------+----+-------+------+----+----+\n",
      "|01000001|     01| 2.2|    3.5|     null|  null|   null|    null|null|    2.5|   5.5|null|null|\n",
      "|01000002|     01| 9.2|   8.25|     10.0|  null|   null|    null|null|   5.75|  9.75|9.25|null|\n",
      "|01000003|     01| 4.4|   6.25|     null|  null|   null|    null|null|   4.25|   4.0|null|null|\n",
      "|01000004|     01| 8.4|   6.75|     10.0|   4.0|    3.0|     3.5|null|   null|  null|null|null|\n",
      "|01000005|     01| 8.8|   8.25|      9.4|  8.25|   5.75|    5.25|null|   null|  null|null|null|\n",
      "+--------+-------+----+-------+---------+------+-------+--------+----+-------+------+----+----+\n",
      "only showing top 5 rows\n",
      "\n"
     ]
    }
   ],
   "source": [
    "data = sparkSession.read.csv(\"../../../Data_process/Diemthi2021.csv\", header=True)\n",
    "print(data.count())\n",
    "data.printSchema()\n",
    "data.show(5)"
   ]
  },
  {
   "cell_type": "code",
   "execution_count": 4,
   "id": "513ebfff",
   "metadata": {},
   "outputs": [
    {
     "name": "stdout",
     "output_type": "stream",
     "text": [
      "root\n",
      " |-- SBD: string (nullable = true)\n",
      " |-- Cum_thi: string (nullable = true)\n",
      " |-- Toan: float (nullable = true)\n",
      " |-- Ngu_van: float (nullable = true)\n",
      " |-- Ngoai_ngu: float (nullable = true)\n",
      " |-- Vat_ly: float (nullable = true)\n",
      " |-- Hoa_hoc: float (nullable = true)\n",
      " |-- Sinh_hoc: float (nullable = true)\n",
      " |-- KHTN: string (nullable = true)\n",
      " |-- Lich_su: float (nullable = true)\n",
      " |-- Dia_ly: float (nullable = true)\n",
      " |-- GDCD: float (nullable = true)\n",
      " |-- KHXH: string (nullable = true)\n",
      "\n"
     ]
    }
   ],
   "source": [
    "data_all = data.withColumn('Toan', F.col('Toan').cast(FloatType()))\n",
    "data_all = data_all.withColumn('Ngu_van', F.col('Ngu_van').cast(FloatType()))\n",
    "data_all = data_all.withColumn('Ngoai_ngu', F.col('Ngoai_ngu').cast(FloatType()))\n",
    "data_all = data_all.withColumn('Vat_ly', F.col('Vat_ly').cast(FloatType()))\n",
    "data_all = data_all.withColumn('Hoa_hoc', F.col('Hoa_hoc').cast(FloatType()))\n",
    "data_all = data_all.withColumn('Sinh_hoc', F.col('Sinh_hoc').cast(FloatType()))\n",
    "data_all = data_all.withColumn('Lich_su', F.col('Lich_su').cast(FloatType()))\n",
    "data_all = data_all.withColumn('Dia_ly', F.col('Dia_ly').cast(FloatType()))\n",
    "data_all = data_all.withColumn('GDCD', F.col('GDCD').cast(FloatType()))\n",
    "\n",
    "data_all.printSchema()"
   ]
  },
  {
   "cell_type": "code",
   "execution_count": 5,
   "id": "a3f306e9",
   "metadata": {},
   "outputs": [
    {
     "name": "stdout",
     "output_type": "stream",
     "text": [
      "923140\n"
     ]
    }
   ],
   "source": [
    "print(data_all.count())"
   ]
  },
  {
   "cell_type": "code",
   "execution_count": 29,
   "id": "b59ea435",
   "metadata": {
    "scrolled": false
   },
   "outputs": [
    {
     "name": "stdout",
     "output_type": "stream",
     "text": [
      "+-------+------+\n",
      "|Cum_thi| count|\n",
      "+-------+------+\n",
      "|     01|100293|\n",
      "|     02| 86259|\n",
      "|     03| 23241|\n",
      "|     04| 12631|\n",
      "|     05|  5603|\n",
      "|     06|  4738|\n",
      "|     07|  3563|\n",
      "|     08|  7331|\n",
      "|     09|  8680|\n",
      "|     10|  9530|\n",
      "|     11|  2893|\n",
      "|     12| 14741|\n",
      "|     15| 16151|\n",
      "|     16| 13902|\n",
      "|     17| 16367|\n",
      "|     18|   932|\n",
      "|     19| 16336|\n",
      "|     21| 22263|\n",
      "|     22| 12338|\n",
      "|     23|  9478|\n",
      "|     24|  9670|\n",
      "|     25| 20917|\n",
      "|     26| 22758|\n",
      "|     27| 11050|\n",
      "|     28| 40041|\n",
      "|     29| 34327|\n",
      "|     30| 17268|\n",
      "|     31| 11902|\n",
      "|     32|  8485|\n",
      "|     33| 13291|\n",
      "|     34| 16701|\n",
      "|     35|  1696|\n",
      "|     36|  4631|\n",
      "|     37| 14551|\n",
      "|     38| 13837|\n",
      "|     39|  9398|\n",
      "|     40| 19670|\n",
      "|     41| 13847|\n",
      "|     42| 14169|\n",
      "|     43| 10362|\n",
      "|     44| 12999|\n",
      "|     45|  5972|\n",
      "|     46|  9644|\n",
      "|     47| 12036|\n",
      "|     48| 30366|\n",
      "|     49| 16159|\n",
      "|     51|  5505|\n",
      "|     52| 12959|\n",
      "|     53| 16202|\n",
      "|     54| 13600|\n",
      "|     55| 12113|\n",
      "|     56| 13178|\n",
      "|     57| 11327|\n",
      "|     58|  8806|\n",
      "|     59|  9425|\n",
      "|     60|  6332|\n",
      "|     61| 10914|\n",
      "|     62|  6268|\n",
      "|     63|  6679|\n",
      "|     64|  6815|\n",
      "+-------+------+\n",
      "\n"
     ]
    }
   ],
   "source": [
    "data_all.groupBy('Cum_thi').count().orderBy('Cum_thi').show(99)"
   ]
  },
  {
   "cell_type": "code",
   "execution_count": null,
   "id": "5d58d24f",
   "metadata": {},
   "outputs": [],
   "source": [
    "# 13 14"
   ]
  },
  {
   "cell_type": "markdown",
   "id": "ecd548fe",
   "metadata": {},
   "source": [
    "### Tính số lượng theo tỉnh"
   ]
  },
  {
   "cell_type": "code",
   "execution_count": 8,
   "id": "a0784963",
   "metadata": {},
   "outputs": [],
   "source": [
    "max_tinh = data_all.withColumn('max', f.row_number().over(\n",
    "    Window.partitionBy(\"Cum_thi\").orderBy(f.col('SBD').desc())\n",
    "    )).filter('max == 1').select('Cum_thi', 'SBD').orderBy('Cum_thi')\n",
    "\n",
    "max_tinh =max_tinh.toPandas()"
   ]
  },
  {
   "cell_type": "code",
   "execution_count": 27,
   "id": "7fdb798f",
   "metadata": {
    "scrolled": true
   },
   "outputs": [
    {
     "data": {
      "text/plain": [
       "937884"
      ]
     },
     "execution_count": 27,
     "metadata": {},
     "output_type": "execute_result"
    }
   ],
   "source": [
    "df_tinh = [int(x[2:8]) for x in max_tinh['SBD'].values]\n",
    "sum(df_tinh)"
   ]
  },
  {
   "cell_type": "code",
   "execution_count": 28,
   "id": "d66b704e",
   "metadata": {},
   "outputs": [
    {
     "data": {
      "text/plain": [
       "60"
      ]
     },
     "execution_count": 28,
     "metadata": {},
     "output_type": "execute_result"
    }
   ],
   "source": [
    "len(df_tinh)"
   ]
  },
  {
   "cell_type": "markdown",
   "id": "1cfde53a",
   "metadata": {},
   "source": [
    "### Show miss data"
   ]
  },
  {
   "cell_type": "code",
   "execution_count": 19,
   "id": "113f71bd",
   "metadata": {},
   "outputs": [
    {
     "name": "stdout",
     "output_type": "stream",
     "text": [
      "+-------+------+-----+\n",
      "|Cum_thi| crawl|count|\n",
      "+-------+------+-----+\n",
      "|     01|010000|   97|\n",
      "|     01|010001|  100|\n",
      "|     01|010002|  100|\n",
      "|     01|010003|  100|\n",
      "|     01|010004|   98|\n",
      "|     01|010005|   98|\n",
      "|     01|010006|   99|\n",
      "|     01|010007|   99|\n",
      "|     01|010008|  100|\n",
      "|     01|010009|   99|\n",
      "|     01|010010|  100|\n",
      "|     01|010011|   99|\n",
      "|     01|010012|   98|\n",
      "|     01|010013|  100|\n",
      "|     01|010014|  100|\n",
      "|     01|010015|  100|\n",
      "|     01|010016|   98|\n",
      "|     01|010017|  100|\n",
      "|     01|010018|  100|\n",
      "|     01|010019|  100|\n",
      "+-------+------+-----+\n",
      "only showing top 20 rows\n",
      "\n"
     ]
    }
   ],
   "source": [
    "data_check = data_all.withColumn('crawl', f.substring(f.col('SBD'), 0, 6)).select('Cum_thi', 'crawl')\n",
    "data_check = data_check.groupBy('Cum_thi', 'crawl').count().orderBy('Cum_thi', 'crawl')\n",
    "data_check.show()"
   ]
  },
  {
   "cell_type": "code",
   "execution_count": 24,
   "id": "4a6943b3",
   "metadata": {},
   "outputs": [],
   "source": [
    "# Tao list_tinh\n",
    "data_miss_all = []\n",
    "list_matinh = [str(x) if(len(str(x)) == 2) else '0'+str(x) for x in range(1,65)]\n",
    "list_matinh.remove('20')\n",
    "\n",
    "for i in range(len(list_matinh)):\n",
    "    da\n"
   ]
  },
  {
   "cell_type": "markdown",
   "id": "fed0eb92",
   "metadata": {},
   "source": [
    "## Tính điểm các khối"
   ]
  },
  {
   "cell_type": "code",
   "execution_count": 11,
   "id": "4b2d8800",
   "metadata": {},
   "outputs": [
    {
     "name": "stdout",
     "output_type": "stream",
     "text": [
      "<class 'pandas.core.frame.DataFrame'>\n",
      "RangeIndex: 923140 entries, 0 to 923139\n",
      "Data columns (total 13 columns):\n",
      " #   Column     Non-Null Count   Dtype  \n",
      "---  ------     --------------   -----  \n",
      " 0   SBD        923140 non-null  object \n",
      " 1   Cum_thi    923140 non-null  object \n",
      " 2   Toan       913707 non-null  float32\n",
      " 3   Ngu_van    910456 non-null  float32\n",
      " 4   Ngoai_ngu  811974 non-null  float32\n",
      " 5   Vat_ly     327757 non-null  float32\n",
      " 6   Hoa_hoc    329306 non-null  float32\n",
      " 7   Sinh_hoc   324160 non-null  float32\n",
      " 8   KHTN       50159 non-null   object \n",
      " 9   Lich_su    587825 non-null  float32\n",
      " 10  Dia_ly     582426 non-null  float32\n",
      " 11  GDCD       493044 non-null  float32\n",
      " 12  KHXH       28146 non-null   object \n",
      "dtypes: float32(9), object(4)\n",
      "memory usage: 59.9+ MB\n"
     ]
    }
   ],
   "source": [
    "df = data_all.toPandas()\n",
    "df.info()"
   ]
  },
  {
   "cell_type": "code",
   "execution_count": 12,
   "id": "ea468b47",
   "metadata": {},
   "outputs": [],
   "source": [
    "df['KhoiA'] = df['Toan'] + df['Vat_ly'] + df['Hoa_hoc']\n",
    "df['KhoiB'] = df['Toan'] + df['Sinh_hoc'] + df['Hoa_hoc']\n",
    "df['KhoiC'] = df['Ngu_van'] + df['Lich_su'] + df['Dia_ly']\n",
    "df['KhoiA1'] = df['Toan'] + df['Vat_ly'] + df['Ngoai_ngu']\n",
    "df['KhoiD1'] = df['Toan'] + df['Ngu_van'] + df['Ngoai_ngu']"
   ]
  },
  {
   "cell_type": "markdown",
   "id": "8eaeb8f7",
   "metadata": {},
   "source": [
    "## Phân tích theo từng môn học"
   ]
  },
  {
   "cell_type": "code",
   "execution_count": 13,
   "id": "27fe1786",
   "metadata": {},
   "outputs": [],
   "source": [
    "def Draw_MonHoc(save_path, df, mon_hoc, tittle):\n",
    "    data_show = []\n",
    "    if('Khoi' in mon_hoc):\n",
    "#         data_show = round_diem(df[mon_hoc].values)\n",
    "#         data_show = pd.Series(data_show).value_counts().sort_index(ascending=True)\n",
    "        bins = [x/2.0 for x in range(0, 30*2+1)]\n",
    "        \n",
    "        data_show = df[mon_hoc].value_counts(bins = bins).sort_index(ascending=True)\n",
    "    elif(mon_hoc == 'Ngu_van'):\n",
    "        data_show = df[mon_hoc].value_counts(bins = 40).sort_index(ascending=True)\n",
    "    else:\n",
    "        data_show = df[mon_hoc].value_counts().sort_index(ascending=True)\n",
    "        x_list = [str(round(x, 2)) for x in data_show.index]\n",
    "        y_list = data_show.values\n",
    "        data_show = pd.Series(y_list, x_list)\n",
    "    # ------show----tung so luong------\n",
    "    for index, value in enumerate(data_show.values):\n",
    "        plt.text(index, value, '    ' + str(value), rotation = 90, \n",
    "                 horizontalalignment='center', multialignment='center')\n",
    "    data_show.plot(kind='bar', colormap='plasma')\n",
    "    \n",
    "    # ---- design ----\n",
    "    font = {'family': 'serif',\n",
    "            'color':  'black',\n",
    "            'weight': 'normal',\n",
    "            'size': 12,\n",
    "            }\n",
    "    font_title = {'family': 'serif',\n",
    "            'color':  'black',\n",
    "            'weight': 'normal',\n",
    "            'size': 16,\n",
    "            }\n",
    "    \n",
    "    plt.grid(c='white', linewidth=2, fillstyle='full', b=True)\n",
    "    plt.ylim(0, data_show.values.max()*1.4)\n",
    "    plt.xlabel('Điểm', labelpad=10, fontdict=font)\n",
    "    plt.ylabel('Số lượng', labelpad=15, fontdict=font)\n",
    "\n",
    "    plt.title(tittle, fontdict=font_title)\n",
    "    plt.tight_layout()\n",
    "    plt.savefig(save_path + mon_hoc +'.png', dpi=100, pad_inches=0.0)\n",
    "    plt.show()\n",
    "    return"
   ]
  },
  {
   "cell_type": "markdown",
   "id": "60431910",
   "metadata": {},
   "source": [
    "### Hàm làm tròn điểm"
   ]
  },
  {
   "cell_type": "code",
   "execution_count": 14,
   "id": "0be31162",
   "metadata": {},
   "outputs": [],
   "source": [
    "def round_diem(list_diem):\n",
    "    rs = []\n",
    "    for diem in list_diem:\n",
    "        diem = str(round(diem, 2))\n",
    "        vitri_dauphay = diem.find('.')\n",
    "        phandu = 0\n",
    "        if(vitri_dauphay == -1):\n",
    "            phandu == 0\n",
    "            rs.append(float(diem))\n",
    "            continue\n",
    "        elif(vitri_dauphay == len(diem)-2):\n",
    "            phandu = int(diem[vitri_dauphay+1])*10\n",
    "        else:\n",
    "            phandu = int(diem[vitri_dauphay+1])*10 + int(diem[vitri_dauphay+2])\n",
    "            \n",
    "        #---bat dau lam tron---\n",
    "        diem_nho = 0\n",
    "        if(phandu < 25):\n",
    "            phandu = 0 if (2*phandu < 25) else 25\n",
    "        elif(phandu < 50):\n",
    "            phandu = 25 if((phandu-25)<(50-phandu)) else 50\n",
    "        elif(phandu < 75):\n",
    "            phandu = 50 if((phandu-50)<(75-phandu)) else 75\n",
    "        else:\n",
    "            phandu = 75 if((phandu-75)<(100-phandu)) else 0\n",
    "            diem_nho = 0 if(phandu == 75) else 1\n",
    "        phan_nguyen, _= diem.split('.')\n",
    "        rs.append(float(str(int(phan_nguyen)+diem_nho) + '.' + str(phandu)))\n",
    "    return rs"
   ]
  },
  {
   "cell_type": "code",
   "execution_count": 15,
   "id": "732725dc",
   "metadata": {},
   "outputs": [],
   "source": [
    "ma_Monhoc = [\n",
    "    {'Mon_hoc':'Toan', 'Ten': 'Toán'},\n",
    "    {'Mon_hoc':'Ngu_van', 'Ten': 'Ngữ Văn'},\n",
    "    {'Mon_hoc':'Ngoai_ngu', 'Ten': 'Tiếng Anh'},\n",
    "    {'Mon_hoc':'Hoa_hoc', 'Ten': 'Hóa học'},\n",
    "    {'Mon_hoc':'Sinh_hoc', 'Ten': 'Sinh hoc'},\n",
    "    {'Mon_hoc':'Vat_ly', 'Ten': 'Vật lý'},\n",
    "    {'Mon_hoc':'Lich_su', 'Ten': 'Lịch sử'},\n",
    "    {'Mon_hoc':'Dia_ly', 'Ten': 'Địa lý'},\n",
    "    {'Mon_hoc':'GDCD', 'Ten': 'Giáo dục công dân'},\n",
    "    {'Mon_hoc':'KhoiA', 'Ten': 'Khối A'},\n",
    "    {'Mon_hoc':'KhoiB', 'Ten': 'Khối B'},\n",
    "    {'Mon_hoc':'KhoiC', 'Ten': 'Khối C'},\n",
    "    {'Mon_hoc':'KhoiD1', 'Ten': 'Khối D1'},\n",
    "    {'Mon_hoc':'KhoiA1', 'Ten': 'Khối A1'},\n",
    "]\n",
    "# ma_Monhoc = pd.DataFrame(ma_Monhoc)"
   ]
  },
  {
   "cell_type": "code",
   "execution_count": 16,
   "id": "99f34d22",
   "metadata": {
    "scrolled": false
   },
   "outputs": [],
   "source": [
    "# save_path = \"../Phổ điểm/\"\n",
    "\n",
    "# for node in ma_Monhoc:\n",
    "#     Draw_MonHoc(save_path, df, node['Mon_hoc'], node['Ten'])"
   ]
  },
  {
   "cell_type": "code",
   "execution_count": 17,
   "id": "ca63e696",
   "metadata": {},
   "outputs": [],
   "source": [
    "# sparkSession.stop()"
   ]
  },
  {
   "cell_type": "code",
   "execution_count": null,
   "id": "d9118c2e",
   "metadata": {},
   "outputs": [],
   "source": []
  }
 ],
 "metadata": {
  "kernelspec": {
   "display_name": "Python 3",
   "language": "python",
   "name": "python3"
  },
  "language_info": {
   "codemirror_mode": {
    "name": "ipython",
    "version": 3
   },
   "file_extension": ".py",
   "mimetype": "text/x-python",
   "name": "python",
   "nbconvert_exporter": "python",
   "pygments_lexer": "ipython3",
   "version": "3.8.8"
  }
 },
 "nbformat": 4,
 "nbformat_minor": 5
}
