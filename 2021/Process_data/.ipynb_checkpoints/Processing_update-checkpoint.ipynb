{
 "cells": [
  {
   "cell_type": "code",
   "execution_count": 1,
   "id": "a16c00a0",
   "metadata": {},
   "outputs": [],
   "source": [
    "import pyspark \n",
    "from pyspark.sql import SparkSession, DataFrame\n",
    "from pyspark import SparkConf, SparkContext\n",
    "import os\n",
    "import re\n",
    "import numpy as np\n",
    "import time\n",
    "from functools import reduce\n",
    "import pandas as pd\n",
    "\n",
    "Location_master = 'spark://linux:7077'\n",
    "Location_master = 'local'\n",
    "try:\n",
    "    sparkSession.stop()\n",
    "except:\n",
    "    pass\n",
    "sparkSession = SparkSession \\\n",
    "    .builder \\\n",
    "    .master(Location_master)\\\n",
    "    .appName(\"Process 2020\") \\\n",
    "    .config(\"spark.some.config.option\", \"some-value\") \\\n",
    "    .config(\"spark.executor.memory\", \"4g\") \\\n",
    "    .config('spark.cores.max','4')\\\n",
    "    .getOrCreate()"
   ]
  },
  {
   "cell_type": "code",
   "execution_count": 2,
   "id": "ce8a884f",
   "metadata": {},
   "outputs": [
    {
     "name": "stdout",
     "output_type": "stream",
     "text": [
      "+---+--------+-------+----+-------+---------+------+-------+--------+----+-------+------+----+----+\n",
      "|_c0|     SBD|Cum_thi|Toan|Ngu_van|Ngoai_ngu|Vat_ly|Hoa_hoc|Sinh_hoc|KHTN|Lich_su|Dia_ly|GDCD|KHXH|\n",
      "+---+--------+-------+----+-------+---------+------+-------+--------+----+-------+------+----+----+\n",
      "|  0|02000096|     02| 7.8|   5.75|     null|  7.75|   6.75|     5.5|6.67|   null|  null|null|null|\n",
      "|  1|02000095|     02|   8|   null|     null|  null|   null|    null|6.67|   null|  null|null|null|\n",
      "|  2|02000094|     02|   8|   6.75|      8.8|   5.5|   6.25|    7.25|6.33|   null|  null|null|null|\n",
      "|  3|02000092|     02| 8.8|   6.75|        9|  8.75|   7.75|    3.25|6.58|   null|  null|null|null|\n",
      "|  4|02000091|     02|   8|   5.75|      9.2|  8.75|   8.25|     5.5| 7.5|   null|  null|null|null|\n",
      "+---+--------+-------+----+-------+---------+------+-------+--------+----+-------+------+----+----+\n",
      "only showing top 5 rows\n",
      "\n",
      "+---+--------+-------+----+-------+---------+------+-------+--------+----+-------+------+----+----+\n",
      "|_c0|     SBD|Cum_thi|Toan|Ngu_van|Ngoai_ngu|Vat_ly|Hoa_hoc|Sinh_hoc|KHTN|Lich_su|Dia_ly|GDCD|KHXH|\n",
      "+---+--------+-------+----+-------+---------+------+-------+--------+----+-------+------+----+----+\n",
      "|  0|30005399|     30| 9.6|      6|      9.6|   7.5|      4|     3.5|null|   null|  null|null|null|\n",
      "|  1|30005398|     30| 9.4|   7.75|      9.4|  null|   null|    null|null|    6.5|     8|   9|null|\n",
      "|  2|30005397|     30| 9.4|   6.75|        8|   6.5|      8|    8.75|null|   null|  null|null|null|\n",
      "|  3|30005396|     30| 9.4|      5|      8.8|     8|     10|    9.75|null|   null|  null|null|null|\n",
      "|  4|30005395|     30| 9.4|    7.5|      9.2|     9|   8.25|    5.75|null|   null|  null|null|null|\n",
      "+---+--------+-------+----+-------+---------+------+-------+--------+----+-------+------+----+----+\n",
      "only showing top 5 rows\n",
      "\n",
      "root\n",
      " |-- _c0: string (nullable = true)\n",
      " |-- SBD: string (nullable = true)\n",
      " |-- Cum_thi: string (nullable = true)\n",
      " |-- Toan: string (nullable = true)\n",
      " |-- Ngu_van: string (nullable = true)\n",
      " |-- Ngoai_ngu: string (nullable = true)\n",
      " |-- Vat_ly: string (nullable = true)\n",
      " |-- Hoa_hoc: string (nullable = true)\n",
      " |-- Sinh_hoc: string (nullable = true)\n",
      " |-- KHTN: string (nullable = true)\n",
      " |-- Lich_su: string (nullable = true)\n",
      " |-- Dia_ly: string (nullable = true)\n",
      " |-- GDCD: string (nullable = true)\n",
      " |-- KHXH: string (nullable = true)\n",
      "\n",
      "root\n",
      " |-- _c0: string (nullable = true)\n",
      " |-- SBD: string (nullable = true)\n",
      " |-- Cum_thi: string (nullable = true)\n",
      " |-- Toan: string (nullable = true)\n",
      " |-- Ngu_van: string (nullable = true)\n",
      " |-- Ngoai_ngu: string (nullable = true)\n",
      " |-- Vat_ly: string (nullable = true)\n",
      " |-- Hoa_hoc: string (nullable = true)\n",
      " |-- Sinh_hoc: string (nullable = true)\n",
      " |-- KHTN: string (nullable = true)\n",
      " |-- Lich_su: string (nullable = true)\n",
      " |-- Dia_ly: string (nullable = true)\n",
      " |-- GDCD: string (nullable = true)\n",
      " |-- KHXH: string (nullable = true)\n",
      "\n"
     ]
    }
   ],
   "source": [
    "data_dir = '../../../Data_process/'\n",
    "data = sparkSession.read.csv(data_dir + 'Diemthi2021/*/', header=True)\n",
    "data_bosung = sparkSession.read.csv(data_dir + 'CrawlBosung/missing.csv', header=True)\n",
    "\n",
    "data.show(5)\n",
    "data_bosung.show(5)\n",
    "\n",
    "data.printSchema()\n",
    "data_bosung.printSchema()\n",
    "\n",
    "data_all = reduce(DataFrame.unionAll, [data, data_bosung])"
   ]
  },
  {
   "cell_type": "markdown",
   "id": "4f9d36ff",
   "metadata": {},
   "source": [
    "### Thay đổi kiểu dữ liệu các trường dữ liệu về đúng dạng của nó"
   ]
  },
  {
   "cell_type": "code",
   "execution_count": 3,
   "id": "bc8a2a4a",
   "metadata": {},
   "outputs": [],
   "source": [
    "import pyspark.sql.functions as F\n",
    "import pyspark.sql.functions as f\n",
    "from pyspark.sql.types import FloatType, StringType, IntegerType"
   ]
  },
  {
   "cell_type": "code",
   "execution_count": 4,
   "id": "318db31e",
   "metadata": {
    "scrolled": false
   },
   "outputs": [
    {
     "name": "stdout",
     "output_type": "stream",
     "text": [
      "root\n",
      " |-- SBD: string (nullable = true)\n",
      " |-- Cum_thi: string (nullable = true)\n",
      " |-- Toan: float (nullable = true)\n",
      " |-- Ngu_van: float (nullable = true)\n",
      " |-- Ngoai_ngu: float (nullable = true)\n",
      " |-- Vat_ly: float (nullable = true)\n",
      " |-- Hoa_hoc: float (nullable = true)\n",
      " |-- Sinh_hoc: float (nullable = true)\n",
      " |-- KHTN: string (nullable = true)\n",
      " |-- Lich_su: float (nullable = true)\n",
      " |-- Dia_ly: float (nullable = true)\n",
      " |-- GDCD: float (nullable = true)\n",
      " |-- KHXH: string (nullable = true)\n",
      "\n"
     ]
    }
   ],
   "source": [
    "data_all = data_all.drop('_c0')\n",
    "data_all = data_all.withColumn('Toan', F.col('Toan').cast(FloatType()))\n",
    "data_all = data_all.withColumn('Ngu_van', F.col('Ngu_van').cast(FloatType()))\n",
    "data_all = data_all.withColumn('Ngoai_ngu', F.col('Ngoai_ngu').cast(FloatType()))\n",
    "data_all = data_all.withColumn('Vat_ly', F.col('Vat_ly').cast(FloatType()))\n",
    "data_all = data_all.withColumn('Hoa_hoc', F.col('Hoa_hoc').cast(FloatType()))\n",
    "data_all = data_all.withColumn('Sinh_hoc', F.col('Sinh_hoc').cast(FloatType()))\n",
    "data_all = data_all.withColumn('Lich_su', F.col('Lich_su').cast(FloatType()))\n",
    "data_all = data_all.withColumn('Dia_ly', F.col('Dia_ly').cast(FloatType()))\n",
    "data_all = data_all.withColumn('GDCD', F.col('GDCD').cast(FloatType()))\n",
    "\n",
    "data_all.printSchema()"
   ]
  },
  {
   "cell_type": "code",
   "execution_count": 21,
   "id": "521f647b",
   "metadata": {},
   "outputs": [
    {
     "name": "stdout",
     "output_type": "stream",
     "text": [
      "+-------+-----+-----+\n",
      "|Cum_thi|crawl|count|\n",
      "+-------+-----+-----+\n",
      "|     01| 0000|   97|\n",
      "|     01| 0001|  100|\n",
      "|     01| 0002|  100|\n",
      "|     01| 0003|  100|\n",
      "|     01| 0004|   98|\n",
      "|     01| 0005|   98|\n",
      "|     01| 0006|   99|\n",
      "|     01| 0007|   99|\n",
      "|     01| 0008|  100|\n",
      "|     01| 0009|   99|\n",
      "|     01| 0010|  100|\n",
      "|     01| 0011|   99|\n",
      "|     01| 0012|   98|\n",
      "|     01| 0013|  100|\n",
      "|     01| 0014|  100|\n",
      "|     01| 0015|  100|\n",
      "|     01| 0016|   98|\n",
      "|     01| 0017|  100|\n",
      "|     01| 0018|  100|\n",
      "|     01| 0019|  100|\n",
      "+-------+-----+-----+\n",
      "only showing top 20 rows\n",
      "\n"
     ]
    }
   ],
   "source": [
    "data_check = data_all.withColumn('crawl', f.substring(f.col('SBD'), 3, 4)).select('Cum_thi', 'crawl')\n",
    "data_check = data_check.groupBy('Cum_thi', 'crawl').count().orderBy('Cum_thi', 'crawl').show()"
   ]
  },
  {
   "cell_type": "code",
   "execution_count": 15,
   "id": "f5e62e30",
   "metadata": {},
   "outputs": [
    {
     "data": {
      "text/html": [
       "<div>\n",
       "<style scoped>\n",
       "    .dataframe tbody tr th:only-of-type {\n",
       "        vertical-align: middle;\n",
       "    }\n",
       "\n",
       "    .dataframe tbody tr th {\n",
       "        vertical-align: top;\n",
       "    }\n",
       "\n",
       "    .dataframe thead th {\n",
       "        text-align: right;\n",
       "    }\n",
       "</style>\n",
       "<table border=\"1\" class=\"dataframe\">\n",
       "  <thead>\n",
       "    <tr style=\"text-align: right;\">\n",
       "      <th></th>\n",
       "      <th>Cum_thi</th>\n",
       "      <th>crawl</th>\n",
       "    </tr>\n",
       "  </thead>\n",
       "  <tbody>\n",
       "    <tr>\n",
       "      <th>0</th>\n",
       "      <td>01</td>\n",
       "      <td>020623</td>\n",
       "    </tr>\n",
       "    <tr>\n",
       "      <th>1</th>\n",
       "      <td>01</td>\n",
       "      <td>028260</td>\n",
       "    </tr>\n",
       "    <tr>\n",
       "      <th>2</th>\n",
       "      <td>01</td>\n",
       "      <td>029544</td>\n",
       "    </tr>\n",
       "    <tr>\n",
       "      <th>3</th>\n",
       "      <td>01</td>\n",
       "      <td>046741</td>\n",
       "    </tr>\n",
       "    <tr>\n",
       "      <th>4</th>\n",
       "      <td>01</td>\n",
       "      <td>057709</td>\n",
       "    </tr>\n",
       "    <tr>\n",
       "      <th>...</th>\n",
       "      <td>...</td>\n",
       "      <td>...</td>\n",
       "    </tr>\n",
       "    <tr>\n",
       "      <th>923135</th>\n",
       "      <td>44</td>\n",
       "      <td>012903</td>\n",
       "    </tr>\n",
       "    <tr>\n",
       "      <th>923136</th>\n",
       "      <td>51</td>\n",
       "      <td>000390</td>\n",
       "    </tr>\n",
       "    <tr>\n",
       "      <th>923137</th>\n",
       "      <td>54</td>\n",
       "      <td>011338</td>\n",
       "    </tr>\n",
       "    <tr>\n",
       "      <th>923138</th>\n",
       "      <td>56</td>\n",
       "      <td>005440</td>\n",
       "    </tr>\n",
       "    <tr>\n",
       "      <th>923139</th>\n",
       "      <td>57</td>\n",
       "      <td>008183</td>\n",
       "    </tr>\n",
       "  </tbody>\n",
       "</table>\n",
       "<p>923140 rows × 2 columns</p>\n",
       "</div>"
      ],
      "text/plain": [
       "       Cum_thi   crawl\n",
       "0           01  020623\n",
       "1           01  028260\n",
       "2           01  029544\n",
       "3           01  046741\n",
       "4           01  057709\n",
       "...        ...     ...\n",
       "923135      44  012903\n",
       "923136      51  000390\n",
       "923137      54  011338\n",
       "923138      56  005440\n",
       "923139      57  008183\n",
       "\n",
       "[923140 rows x 2 columns]"
      ]
     },
     "execution_count": 15,
     "metadata": {},
     "output_type": "execute_result"
    }
   ],
   "source": [
    "data_check"
   ]
  },
  {
   "cell_type": "code",
   "execution_count": 7,
   "id": "16ef1dc9",
   "metadata": {},
   "outputs": [],
   "source": [
    "from pyspark.sql.window import Window\n",
    "\n",
    "data_all = data_all.withColumn('row_num', f.row_number().over(\n",
    "    Window.partitionBy('SBD').orderBy('SBD')\n",
    "))"
   ]
  },
  {
   "cell_type": "code",
   "execution_count": 8,
   "id": "8f8e7fe0",
   "metadata": {},
   "outputs": [],
   "source": [
    "# if(data_bosung.count() == 0):\n",
    "#     data_dup = data_all.filter('row_num = 2').withColumn('raw', f.substring(f.col('SBD'),0,5))\n",
    "#     data_dup = data_dup.groupBy('raw').count().toPandas()\n",
    "#     list_data_miss = []\n",
    "#     list_dup = list(data_dup['raw'].values)\n",
    "#     for dup in list_dup:\n",
    "#         for i in range(0,10):\n",
    "#             pattern = dup + str(i)\n",
    "#             if(data_all.filter(\"SBD like '{0}%'\".format(pattern)).count() == 0):\n",
    "#                 list_data_miss.append(pattern)\n",
    "\n",
    "#     list_data_miss = pd.DataFrame({'Miss': list_data_miss})\n",
    "#     list_data_miss.to_csv(\"../../../Data_process/ListMiss/miss.csv\")"
   ]
  },
  {
   "cell_type": "code",
   "execution_count": 9,
   "id": "3affb72d",
   "metadata": {
    "scrolled": false
   },
   "outputs": [
    {
     "name": "stdout",
     "output_type": "stream",
     "text": [
      "938487\n",
      "923140\n"
     ]
    }
   ],
   "source": [
    "print(data_all.count())\n",
    "data_all = data_all.filter('row_num == 1')\n",
    "data_all = data_all.drop(\"row_num\")\n",
    "data_all = data_all.drop_duplicates()\n",
    "print(data_all.count())\n",
    "data_all = data_all.orderBy(\"SBD\")\n",
    "data_all.repartition(1).write.format(\"com.databricks.spark.csv\")\\\n",
    "        .option(\"header\", \"true\").save(\"mydata.csv\", mode='overwrite')"
   ]
  },
  {
   "cell_type": "code",
   "execution_count": 10,
   "id": "e446c7ad",
   "metadata": {},
   "outputs": [],
   "source": [
    "# sparkSession.stop()"
   ]
  },
  {
   "cell_type": "code",
   "execution_count": null,
   "id": "bf1cfb8f",
   "metadata": {},
   "outputs": [],
   "source": []
  }
 ],
 "metadata": {
  "kernelspec": {
   "display_name": "Python 3",
   "language": "python",
   "name": "python3"
  },
  "language_info": {
   "codemirror_mode": {
    "name": "ipython",
    "version": 3
   },
   "file_extension": ".py",
   "mimetype": "text/x-python",
   "name": "python",
   "nbconvert_exporter": "python",
   "pygments_lexer": "ipython3",
   "version": "3.8.8"
  }
 },
 "nbformat": 4,
 "nbformat_minor": 5
}
