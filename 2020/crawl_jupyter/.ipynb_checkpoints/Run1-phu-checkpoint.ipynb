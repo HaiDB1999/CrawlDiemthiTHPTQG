{
 "cells": [
  {
   "cell_type": "code",
   "execution_count": 1,
   "id": "561b66fc",
   "metadata": {},
   "outputs": [],
   "source": [
    "# !pip install selenium\n",
    "# !pip install pandas"
   ]
  },
  {
   "cell_type": "code",
   "execution_count": 2,
   "id": "7b1d7486",
   "metadata": {},
   "outputs": [],
   "source": [
    "from selenium import webdriver\n",
    "from selenium.common.exceptions import NoSuchElementException\n",
    "from selenium.webdriver.chrome.options import Options\n",
    "from selenium.webdriver.common.keys import Keys\n",
    "import threading\n",
    "import pandas as pd\n",
    "import re\n",
    "import time\n",
    "import os\n",
    "\n",
    "os.chdir(os.path.dirname(os.getcwd()))\n",
    "from Crawl import Crawler2020"
   ]
  },
  {
   "cell_type": "code",
   "execution_count": null,
   "id": "ff4d880c",
   "metadata": {},
   "outputs": [
    {
     "name": "stdout",
     "output_type": "stream",
     "text": [
      "{'SBD': '01021701', 'Cum_thi': 'Sở GDĐT Hà Nội', 'Toan': '4.20', 'Ngu_van': '4.25', 'Ngoai_ngu': '2.20', 'Vat_ly': '', 'Hoa_hoc': '', 'Sinh_hoc': '', 'Diem_KHTN': '', 'Lich_su': '2.50', 'Dia_ly': '5.75', 'GDCD': '5.50', 'Diem_KHXH': '4.50'}\n",
      "{'SBD': '01021702', 'Cum_thi': 'Sở GDĐT Hà Nội', 'Toan': '3.40', 'Ngu_van': '6.00', 'Ngoai_ngu': '', 'Vat_ly': '', 'Hoa_hoc': '', 'Sinh_hoc': '', 'Diem_KHTN': '', 'Lich_su': '3.75', 'Dia_ly': '', 'GDCD': '', 'Diem_KHXH': ''}\n",
      "{'SBD': '01021703', 'Cum_thi': 'Sở GDĐT Hà Nội', 'Toan': '3.40', 'Ngu_van': '2.50', 'Ngoai_ngu': '', 'Vat_ly': '', 'Hoa_hoc': '', 'Sinh_hoc': '', 'Diem_KHTN': '', 'Lich_su': '5.00', 'Dia_ly': '7.00', 'GDCD': '', 'Diem_KHXH': ''}\n",
      "{'SBD': '01021704', 'Cum_thi': 'Sở GDĐT Hà Nội', 'Toan': '7.40', 'Ngu_van': '6.16', 'Ngoai_ngu': '3.20', 'Vat_ly': '', 'Hoa_hoc': '', 'Sinh_hoc': '', 'Diem_KHTN': '', 'Lich_su': '5.25', 'Dia_ly': '7.25', 'GDCD': '', 'Diem_KHXH': ''}\n",
      "{'SBD': '01021705', 'Cum_thi': 'Sở GDĐT Hà Nội', 'Toan': '4.00', 'Ngu_van': '4.75', 'Ngoai_ngu': '', 'Vat_ly': '', 'Hoa_hoc': '', 'Sinh_hoc': '', 'Diem_KHTN': '', 'Lich_su': '8.00', 'Dia_ly': '7.25', 'GDCD': '', 'Diem_KHXH': ''}\n",
      "{'SBD': '01021706', 'Cum_thi': 'Sở GDĐT Hà Nội', 'Toan': '3.60', 'Ngu_van': '', 'Ngoai_ngu': '2.40', 'Vat_ly': '3.50', 'Hoa_hoc': '', 'Sinh_hoc': '', 'Diem_KHTN': '', 'Lich_su': '', 'Dia_ly': '', 'GDCD': '', 'Diem_KHXH': ''}\n",
      "{'SBD': '01021707', 'Cum_thi': 'Sở GDĐT Hà Nội', 'Toan': '7.00', 'Ngu_van': '6.50', 'Ngoai_ngu': '', 'Vat_ly': '', 'Hoa_hoc': '', 'Sinh_hoc': '', 'Diem_KHTN': '', 'Lich_su': '5.50', 'Dia_ly': '5.75', 'GDCD': '', 'Diem_KHXH': ''}\n",
      "{'SBD': '01021708', 'Cum_thi': 'Sở GDĐT Hà Nội', 'Toan': '3.80', 'Ngu_van': '4.50', 'Ngoai_ngu': '2.60', 'Vat_ly': '', 'Hoa_hoc': '', 'Sinh_hoc': '', 'Diem_KHTN': '', 'Lich_su': '3.25', 'Dia_ly': '2.25', 'GDCD': '5.75', 'Diem_KHXH': '4.92'}\n",
      "{'SBD': '01021709', 'Cum_thi': 'Sở GDĐT Hà Nội', 'Toan': '6.60', 'Ngu_van': '5.50', 'Ngoai_ngu': '', 'Vat_ly': '', 'Hoa_hoc': '', 'Sinh_hoc': '', 'Diem_KHTN': '', 'Lich_su': '9.00', 'Dia_ly': '7.50', 'GDCD': '', 'Diem_KHXH': ''}\n",
      "{'SBD': '01021710', 'Cum_thi': 'Sở GDĐT Hà Nội', 'Toan': '7.80', 'Ngu_van': '6.25', 'Ngoai_ngu': '', 'Vat_ly': '', 'Hoa_hoc': '', 'Sinh_hoc': '', 'Diem_KHTN': '', 'Lich_su': '7.75', 'Dia_ly': '6.50', 'GDCD': '', 'Diem_KHXH': ''}\n",
      "{'SBD': '01021711', 'Cum_thi': 'Sở GDĐT Hà Nội', 'Toan': '2.80', 'Ngu_van': '5.17', 'Ngoai_ngu': '', 'Vat_ly': '', 'Hoa_hoc': '', 'Sinh_hoc': '', 'Diem_KHTN': '', 'Lich_su': '3.75', 'Dia_ly': '', 'GDCD': '', 'Diem_KHXH': ''}\n",
      "{'SBD': '01021712', 'Cum_thi': 'Sở GDĐT Hà Nội', 'Toan': '1.80', 'Ngu_van': '5.25', 'Ngoai_ngu': '', 'Vat_ly': '', 'Hoa_hoc': '', 'Sinh_hoc': '', 'Diem_KHTN': '', 'Lich_su': '3.00', 'Dia_ly': '', 'GDCD': '', 'Diem_KHXH': ''}\n",
      "{'SBD': '01021713', 'Cum_thi': 'Sở GDĐT Hà Nội', 'Toan': '4.80', 'Ngu_van': '6.75', 'Ngoai_ngu': '', 'Vat_ly': '', 'Hoa_hoc': '', 'Sinh_hoc': '', 'Diem_KHTN': '', 'Lich_su': '7.00', 'Dia_ly': '', 'GDCD': '', 'Diem_KHXH': ''}\n",
      "{'SBD': '01021714', 'Cum_thi': 'Sở GDĐT Hà Nội', 'Toan': '3.20', 'Ngu_van': '7.00', 'Ngoai_ngu': '', 'Vat_ly': '', 'Hoa_hoc': '', 'Sinh_hoc': '', 'Diem_KHTN': '', 'Lich_su': '2.75', 'Dia_ly': '', 'GDCD': '', 'Diem_KHXH': ''}\n",
      "{'SBD': '01021715', 'Cum_thi': 'Sở GDĐT Hà Nội', 'Toan': '2.80', 'Ngu_van': '3.25', 'Ngoai_ngu': '', 'Vat_ly': '', 'Hoa_hoc': '', 'Sinh_hoc': '', 'Diem_KHTN': '', 'Lich_su': '4.50', 'Dia_ly': '', 'GDCD': '', 'Diem_KHXH': ''}\n",
      "{'SBD': '01021716', 'Cum_thi': 'Sở GDĐT Hà Nội', 'Toan': '8.80', 'Ngu_van': '7.75', 'Ngoai_ngu': '7.00', 'Vat_ly': '3.50', 'Hoa_hoc': '4.50', 'Sinh_hoc': '6.25', 'Diem_KHTN': '4.75', 'Lich_su': '', 'Dia_ly': '', 'GDCD': '', 'Diem_KHXH': ''}\n",
      "{'SBD': '01021717', 'Cum_thi': 'Sở GDĐT Hà Nội', 'Toan': '7.80', 'Ngu_van': '6.75', 'Ngoai_ngu': '', 'Vat_ly': '', 'Hoa_hoc': '', 'Sinh_hoc': '', 'Diem_KHTN': '', 'Lich_su': '8.50', 'Dia_ly': '', 'GDCD': '', 'Diem_KHXH': ''}\n",
      "{'SBD': '01021718', 'Cum_thi': 'Sở GDĐT Hà Nội', 'Toan': '2.80', 'Ngu_van': '4.00', 'Ngoai_ngu': '', 'Vat_ly': '', 'Hoa_hoc': '', 'Sinh_hoc': '', 'Diem_KHTN': '', 'Lich_su': '5.50', 'Dia_ly': '', 'GDCD': '', 'Diem_KHXH': ''}\n",
      "{'SBD': '03008468', 'Cum_thi': 'Sở GDĐT Hải Phòng', 'Toan': '7.20', 'Ngu_van': '7.75', 'Ngoai_ngu': '5.20', 'Vat_ly': '', 'Hoa_hoc': '', 'Sinh_hoc': '', 'Diem_KHTN': '', 'Lich_su': '7.25', 'Dia_ly': '8.00', 'GDCD': '9.25', 'Diem_KHXH': '8.58'}\n",
      "{'SBD': '01021719', 'Cum_thi': 'Sở GDĐT Hà Nội', 'Toan': '3.80', 'Ngu_van': '4.75', 'Ngoai_ngu': '', 'Vat_ly': '', 'Hoa_hoc': '', 'Sinh_hoc': '', 'Diem_KHTN': '', 'Lich_su': '6.50', 'Dia_ly': '', 'GDCD': '', 'Diem_KHXH': ''}\n",
      "{'SBD': '01021720', 'Cum_thi': 'Sở GDĐT Hà Nội', 'Toan': '6.80', 'Ngu_van': '6.75', 'Ngoai_ngu': '', 'Vat_ly': '', 'Hoa_hoc': '', 'Sinh_hoc': '', 'Diem_KHTN': '', 'Lich_su': '7.00', 'Dia_ly': '', 'GDCD': '', 'Diem_KHXH': ''}\n",
      "{'SBD': '03008469', 'Cum_thi': 'Sở GDĐT Hải Phòng', 'Toan': '4.40', 'Ngu_van': '4.50', 'Ngoai_ngu': '4.20', 'Vat_ly': '', 'Hoa_hoc': '', 'Sinh_hoc': '', 'Diem_KHTN': '', 'Lich_su': '4.50', 'Dia_ly': '5.50', 'GDCD': '9.00', 'Diem_KHXH': '7.50'}\n",
      "{'SBD': '01021721', 'Cum_thi': 'Sở GDĐT Hà Nội', 'Toan': '8.00', 'Ngu_van': '7.00', 'Ngoai_ngu': '', 'Vat_ly': '', 'Hoa_hoc': '', 'Sinh_hoc': '', 'Diem_KHTN': '', 'Lich_su': '8.50', 'Dia_ly': '', 'GDCD': '', 'Diem_KHXH': ''}\n",
      "{'SBD': '03008470', 'Cum_thi': 'Sở GDĐT Hải Phòng', 'Toan': '7.60', 'Ngu_van': '8.00', 'Ngoai_ngu': '4.20', 'Vat_ly': '', 'Hoa_hoc': '', 'Sinh_hoc': '', 'Diem_KHTN': '', 'Lich_su': '9.00', 'Dia_ly': '9.00', 'GDCD': '8.25', 'Diem_KHXH': '8.50'}\n",
      "{'SBD': '01021722', 'Cum_thi': 'Sở GDĐT Hà Nội', 'Toan': '3.40', 'Ngu_van': '', 'Ngoai_ngu': '', 'Vat_ly': '3.00', 'Hoa_hoc': '2.50', 'Sinh_hoc': '', 'Diem_KHTN': '', 'Lich_su': '', 'Dia_ly': '', 'GDCD': '', 'Diem_KHXH': ''}\n",
      "{'SBD': '03008471', 'Cum_thi': 'Sở GDĐT Hải Phòng', 'Toan': '7.60', 'Ngu_van': '5.25', 'Ngoai_ngu': '5.80', 'Vat_ly': '6.00', 'Hoa_hoc': '8.00', 'Sinh_hoc': '6.00', 'Diem_KHTN': '6.67', 'Lich_su': '', 'Dia_ly': '', 'GDCD': '', 'Diem_KHXH': ''}\n",
      "{'SBD': '01021723', 'Cum_thi': 'Sở GDĐT Hà Nội', 'Toan': '7.20', 'Ngu_van': '', 'Ngoai_ngu': '9.00', 'Vat_ly': '', 'Hoa_hoc': '', 'Sinh_hoc': '', 'Diem_KHTN': '', 'Lich_su': '', 'Dia_ly': '', 'GDCD': '', 'Diem_KHXH': ''}\n",
      "{'SBD': '03008472', 'Cum_thi': 'Sở GDĐT Hải Phòng', 'Toan': '8.00', 'Ngu_van': '5.50', 'Ngoai_ngu': '3.80', 'Vat_ly': '7.75', 'Hoa_hoc': '7.50', 'Sinh_hoc': '6.25', 'Diem_KHTN': '7.17', 'Lich_su': '', 'Dia_ly': '', 'GDCD': '', 'Diem_KHXH': ''}\n",
      "{'SBD': '01021724', 'Cum_thi': 'Sở GDĐT Hà Nội', 'Toan': '4.60', 'Ngu_van': '6.25', 'Ngoai_ngu': '', 'Vat_ly': '', 'Hoa_hoc': '', 'Sinh_hoc': '', 'Diem_KHTN': '', 'Lich_su': '3.50', 'Dia_ly': '', 'GDCD': '', 'Diem_KHXH': ''}\n",
      "{'SBD': '03008473', 'Cum_thi': 'Sở GDĐT Hải Phòng', 'Toan': '7.80', 'Ngu_van': '5.00', 'Ngoai_ngu': '6.60', 'Vat_ly': '', 'Hoa_hoc': '', 'Sinh_hoc': '', 'Diem_KHTN': '', 'Lich_su': '4.50', 'Dia_ly': '7.75', 'GDCD': '9.00', 'Diem_KHXH': '7.50'}\n",
      "{'SBD': '01021725', 'Cum_thi': 'Sở GDĐT Hà Nội', 'Toan': '3.00', 'Ngu_van': '2.25', 'Ngoai_ngu': '', 'Vat_ly': '', 'Hoa_hoc': '', 'Sinh_hoc': '', 'Diem_KHTN': '', 'Lich_su': '6.25', 'Dia_ly': '', 'GDCD': '', 'Diem_KHXH': ''}\n",
      "{'SBD': '03008474', 'Cum_thi': 'Sở GDĐT Hải Phòng', 'Toan': '7.20', 'Ngu_van': '6.00', 'Ngoai_ngu': '3.20', 'Vat_ly': '6.00', 'Hoa_hoc': '5.75', 'Sinh_hoc': '6.50', 'Diem_KHTN': '6.08', 'Lich_su': '', 'Dia_ly': '', 'GDCD': '', 'Diem_KHXH': ''}\n",
      "{'SBD': '01021726', 'Cum_thi': 'Sở GDĐT Hà Nội', 'Toan': '3.00', 'Ngu_van': '5.75', 'Ngoai_ngu': '', 'Vat_ly': '', 'Hoa_hoc': '', 'Sinh_hoc': '', 'Diem_KHTN': '', 'Lich_su': '4.25', 'Dia_ly': '6.25', 'GDCD': '', 'Diem_KHXH': ''}\n",
      "{'SBD': '03008475', 'Cum_thi': 'Sở GDĐT Hải Phòng', 'Toan': '6.20', 'Ngu_van': '5.50', 'Ngoai_ngu': '4.20', 'Vat_ly': '', 'Hoa_hoc': '', 'Sinh_hoc': '', 'Diem_KHTN': '', 'Lich_su': '5.75', 'Dia_ly': '5.25', 'GDCD': '8.25', 'Diem_KHXH': '7.42'}\n",
      "{'SBD': '01021727', 'Cum_thi': 'Sở GDĐT Hà Nội', 'Toan': '', 'Ngu_van': '7.75', 'Ngoai_ngu': '', 'Vat_ly': '', 'Hoa_hoc': '', 'Sinh_hoc': '', 'Diem_KHTN': '', 'Lich_su': '', 'Dia_ly': '', 'GDCD': '', 'Diem_KHXH': ''}\n",
      "{'SBD': '03008476', 'Cum_thi': 'Sở GDĐT Hải Phòng', 'Toan': '9.20', 'Ngu_van': '6.50', 'Ngoai_ngu': '6.00', 'Vat_ly': '8.50', 'Hoa_hoc': '9.00', 'Sinh_hoc': '6.25', 'Diem_KHTN': '7.92', 'Lich_su': '', 'Dia_ly': '', 'GDCD': '', 'Diem_KHXH': ''}\n"
     ]
    },
    {
     "name": "stdout",
     "output_type": "stream",
     "text": [
      "{'SBD': '01021728', 'Cum_thi': 'Sở GDĐT Hà Nội', 'Toan': '8.00', 'Ngu_van': '6.75', 'Ngoai_ngu': '', 'Vat_ly': '', 'Hoa_hoc': '', 'Sinh_hoc': '', 'Diem_KHTN': '', 'Lich_su': '6.25', 'Dia_ly': '7.25', 'GDCD': '9.00', 'Diem_KHXH': '8.08'}\n",
      "{'SBD': '03008477', 'Cum_thi': 'Sở GDĐT Hải Phòng', 'Toan': '8.40', 'Ngu_van': '7.25', 'Ngoai_ngu': '7.60', 'Vat_ly': '6.50', 'Hoa_hoc': '8.25', 'Sinh_hoc': '7.25', 'Diem_KHTN': '7.33', 'Lich_su': '', 'Dia_ly': '', 'GDCD': '', 'Diem_KHXH': ''}\n",
      "{'SBD': '01021729', 'Cum_thi': 'Sở GDĐT Hà Nội', 'Toan': '9.00', 'Ngu_van': '7.25', 'Ngoai_ngu': '8.00', 'Vat_ly': '7.50', 'Hoa_hoc': '5.00', 'Sinh_hoc': '5.75', 'Diem_KHTN': '6.08', 'Lich_su': '', 'Dia_ly': '', 'GDCD': '', 'Diem_KHXH': ''}\n",
      "{'SBD': '03008478', 'Cum_thi': 'Sở GDĐT Hải Phòng', 'Toan': '7.60', 'Ngu_van': '6.50', 'Ngoai_ngu': '7.60', 'Vat_ly': '4.00', 'Hoa_hoc': '3.75', 'Sinh_hoc': '4.75', 'Diem_KHTN': '4.17', 'Lich_su': '', 'Dia_ly': '', 'GDCD': '', 'Diem_KHXH': ''}\n",
      "{'SBD': '01021730', 'Cum_thi': 'Sở GDĐT Hà Nội', 'Toan': '9.20', 'Ngu_van': '6.75', 'Ngoai_ngu': '4.60', 'Vat_ly': '7.75', 'Hoa_hoc': '7.50', 'Sinh_hoc': '4.50', 'Diem_KHTN': '6.58', 'Lich_su': '', 'Dia_ly': '', 'GDCD': '', 'Diem_KHXH': ''}\n",
      "{'SBD': '03008479', 'Cum_thi': 'Sở GDĐT Hải Phòng', 'Toan': '9.00', 'Ngu_van': '6.75', 'Ngoai_ngu': '7.00', 'Vat_ly': '8.50', 'Hoa_hoc': '8.25', 'Sinh_hoc': '6.75', 'Diem_KHTN': '7.83', 'Lich_su': '', 'Dia_ly': '', 'GDCD': '', 'Diem_KHXH': ''}\n",
      "{'SBD': '01021731', 'Cum_thi': 'Sở GDĐT Hà Nội', 'Toan': '9.20', 'Ngu_van': '9.00', 'Ngoai_ngu': '10.00', 'Vat_ly': '', 'Hoa_hoc': '', 'Sinh_hoc': '', 'Diem_KHTN': '', 'Lich_su': '7.75', 'Dia_ly': '8.00', 'GDCD': '9.50', 'Diem_KHXH': '8.92'}\n",
      "{'SBD': '03008480', 'Cum_thi': 'Sở GDĐT Hải Phòng', 'Toan': '6.60', 'Ngu_van': '7.00', 'Ngoai_ngu': '4.40', 'Vat_ly': '6.00', 'Hoa_hoc': '7.00', 'Sinh_hoc': '5.25', 'Diem_KHTN': '6.08', 'Lich_su': '', 'Dia_ly': '', 'GDCD': '', 'Diem_KHXH': ''}\n",
      "{'SBD': '01021732', 'Cum_thi': 'Sở GDĐT Hà Nội', 'Toan': '6.80', 'Ngu_van': '6.75', 'Ngoai_ngu': '3.00', 'Vat_ly': '6.25', 'Hoa_hoc': '6.75', 'Sinh_hoc': '5.25', 'Diem_KHTN': '6.08', 'Lich_su': '', 'Dia_ly': '', 'GDCD': '', 'Diem_KHXH': ''}\n",
      "{'SBD': '03008481', 'Cum_thi': 'Sở GDĐT Hải Phòng', 'Toan': '7.00', 'Ngu_van': '6.50', 'Ngoai_ngu': '', 'Vat_ly': '', 'Hoa_hoc': '', 'Sinh_hoc': '', 'Diem_KHTN': '', 'Lich_su': '8.25', 'Dia_ly': '', 'GDCD': '', 'Diem_KHXH': ''}\n",
      "{'SBD': '01021733', 'Cum_thi': 'Sở GDĐT Hà Nội', 'Toan': '4.00', 'Ngu_van': '6.25', 'Ngoai_ngu': '5.40', 'Vat_ly': '2.50', 'Hoa_hoc': '3.75', 'Sinh_hoc': '3.25', 'Diem_KHTN': '3.17', 'Lich_su': '', 'Dia_ly': '', 'GDCD': '', 'Diem_KHXH': ''}\n",
      "{'SBD': '03008482', 'Cum_thi': 'Sở GDĐT Hải Phòng', 'Toan': '8.80', 'Ngu_van': '7.25', 'Ngoai_ngu': '7.80', 'Vat_ly': '6.00', 'Hoa_hoc': '5.75', 'Sinh_hoc': '5.25', 'Diem_KHTN': '5.67', 'Lich_su': '', 'Dia_ly': '', 'GDCD': '', 'Diem_KHXH': ''}\n",
      "{'SBD': '01021734', 'Cum_thi': 'Sở GDĐT Hà Nội', 'Toan': '7.20', 'Ngu_van': '7.75', 'Ngoai_ngu': '3.20', 'Vat_ly': '6.75', 'Hoa_hoc': '5.75', 'Sinh_hoc': '6.75', 'Diem_KHTN': '6.42', 'Lich_su': '', 'Dia_ly': '', 'GDCD': '', 'Diem_KHXH': ''}\n",
      "{'SBD': '03008483', 'Cum_thi': 'Sở GDĐT Hải Phòng', 'Toan': '7.80', 'Ngu_van': '7.00', 'Ngoai_ngu': '6.60', 'Vat_ly': '', 'Hoa_hoc': '', 'Sinh_hoc': '', 'Diem_KHTN': '', 'Lich_su': '5.75', 'Dia_ly': '6.00', 'GDCD': '9.00', 'Diem_KHXH': '7.92'}\n",
      "{'SBD': '01021735', 'Cum_thi': 'Sở GDĐT Hà Nội', 'Toan': '7.40', 'Ngu_van': '7.75', 'Ngoai_ngu': '6.20', 'Vat_ly': '6.50', 'Hoa_hoc': '5.50', 'Sinh_hoc': '4.75', 'Diem_KHTN': '5.58', 'Lich_su': '', 'Dia_ly': '', 'GDCD': '', 'Diem_KHXH': ''}\n",
      "{'SBD': '03008484', 'Cum_thi': 'Sở GDĐT Hải Phòng', 'Toan': '5.40', 'Ngu_van': '6.00', 'Ngoai_ngu': '2.80', 'Vat_ly': '', 'Hoa_hoc': '', 'Sinh_hoc': '', 'Diem_KHTN': '', 'Lich_su': '4.50', 'Dia_ly': '6.25', 'GDCD': '8.00', 'Diem_KHXH': '6.83'}\n",
      "{'SBD': '01021736', 'Cum_thi': 'Sở GDĐT Hà Nội', 'Toan': '7.40', 'Ngu_van': '6.75', 'Ngoai_ngu': '5.00', 'Vat_ly': '3.25', 'Hoa_hoc': '5.75', 'Sinh_hoc': '5.75', 'Diem_KHTN': '4.92', 'Lich_su': '', 'Dia_ly': '', 'GDCD': '', 'Diem_KHXH': ''}\n",
      "{'SBD': '03008485', 'Cum_thi': 'Sở GDĐT Hải Phòng', 'Toan': '7.60', 'Ngu_van': '7.25', 'Ngoai_ngu': '6.20', 'Vat_ly': '', 'Hoa_hoc': '', 'Sinh_hoc': '', 'Diem_KHTN': '', 'Lich_su': '4.75', 'Dia_ly': '7.75', 'GDCD': '9.75', 'Diem_KHXH': '8.08'}\n",
      "{'SBD': '01021737', 'Cum_thi': 'Sở GDĐT Hà Nội', 'Toan': '8.00', 'Ngu_van': '6.00', 'Ngoai_ngu': '8.60', 'Vat_ly': '7.75', 'Hoa_hoc': '8.25', 'Sinh_hoc': '7.25', 'Diem_KHTN': '7.75', 'Lich_su': '', 'Dia_ly': '', 'GDCD': '', 'Diem_KHXH': ''}\n",
      "{'SBD': '03008486', 'Cum_thi': 'Sở GDĐT Hải Phòng', 'Toan': '3.00', 'Ngu_van': '5.50', 'Ngoai_ngu': '2.40', 'Vat_ly': '', 'Hoa_hoc': '', 'Sinh_hoc': '', 'Diem_KHTN': '', 'Lich_su': '4.50', 'Dia_ly': '6.25', 'GDCD': '7.75', 'Diem_KHXH': '6.67'}\n",
      "{'SBD': '01021738', 'Cum_thi': 'Sở GDĐT Hà Nội', 'Toan': '8.60', 'Ngu_van': '6.25', 'Ngoai_ngu': '5.20', 'Vat_ly': '5.50', 'Hoa_hoc': '6.75', 'Sinh_hoc': '5.25', 'Diem_KHTN': '5.83', 'Lich_su': '', 'Dia_ly': '', 'GDCD': '', 'Diem_KHXH': ''}\n",
      "{'SBD': '03008487', 'Cum_thi': 'Sở GDĐT Hải Phòng', 'Toan': '9.40', 'Ngu_van': '6.25', 'Ngoai_ngu': '4.20', 'Vat_ly': '7.25', 'Hoa_hoc': '7.75', 'Sinh_hoc': '6.75', 'Diem_KHTN': '7.25', 'Lich_su': '', 'Dia_ly': '', 'GDCD': '', 'Diem_KHXH': ''}\n",
      "{'SBD': '01021739', 'Cum_thi': 'Sở GDĐT Hà Nội', 'Toan': '8.40', 'Ngu_van': '7.25', 'Ngoai_ngu': '5.20', 'Vat_ly': '7.00', 'Hoa_hoc': '7.50', 'Sinh_hoc': '5.25', 'Diem_KHTN': '6.58', 'Lich_su': '', 'Dia_ly': '', 'GDCD': '', 'Diem_KHXH': ''}\n",
      "{'SBD': '03008488', 'Cum_thi': 'Sở GDĐT Hải Phòng', 'Toan': '7.40', 'Ngu_van': '6.50', 'Ngoai_ngu': '5.00', 'Vat_ly': '', 'Hoa_hoc': '', 'Sinh_hoc': '', 'Diem_KHTN': '', 'Lich_su': '5.75', 'Dia_ly': '6.50', 'GDCD': '8.00', 'Diem_KHXH': '7.25'}\n",
      "{'SBD': '03008489', 'Cum_thi': 'Sở GDĐT Hải Phòng', 'Toan': '9.20', 'Ngu_van': '6.75', 'Ngoai_ngu': '4.80', 'Vat_ly': '8.75', 'Hoa_hoc': '8.25', 'Sinh_hoc': '7.50', 'Diem_KHTN': '8.17', 'Lich_su': '', 'Dia_ly': '', 'GDCD': '', 'Diem_KHXH': ''}\n",
      "{'SBD': '01021740', 'Cum_thi': 'Sở GDĐT Hà Nội', 'Toan': '8.80', 'Ngu_van': '8.00', 'Ngoai_ngu': '2.40', 'Vat_ly': '6.25', 'Hoa_hoc': '5.75', 'Sinh_hoc': '4.50', 'Diem_KHTN': '5.50', 'Lich_su': '', 'Dia_ly': '', 'GDCD': '', 'Diem_KHXH': ''}\n",
      "{'SBD': '03008490', 'Cum_thi': 'Sở GDĐT Hải Phòng', 'Toan': '8.80', 'Ngu_van': '6.25', 'Ngoai_ngu': '6.20', 'Vat_ly': '8.00', 'Hoa_hoc': '8.00', 'Sinh_hoc': '6.25', 'Diem_KHTN': '7.42', 'Lich_su': '', 'Dia_ly': '', 'GDCD': '', 'Diem_KHXH': ''}\n",
      "{'SBD': '01021741', 'Cum_thi': 'Sở GDĐT Hà Nội', 'Toan': '7.20', 'Ngu_van': '7.25', 'Ngoai_ngu': '3.40', 'Vat_ly': '5.50', 'Hoa_hoc': '6.75', 'Sinh_hoc': '7.00', 'Diem_KHTN': '6.42', 'Lich_su': '', 'Dia_ly': '', 'GDCD': '', 'Diem_KHXH': ''}\n",
      "{'SBD': '03008491', 'Cum_thi': 'Sở GDĐT Hải Phòng', 'Toan': '8.80', 'Ngu_van': '6.50', 'Ngoai_ngu': '8.60', 'Vat_ly': '8.50', 'Hoa_hoc': '7.00', 'Sinh_hoc': '6.25', 'Diem_KHTN': '7.25', 'Lich_su': '', 'Dia_ly': '', 'GDCD': '', 'Diem_KHXH': ''}\n",
      "{'SBD': '01021742', 'Cum_thi': 'Sở GDĐT Hà Nội', 'Toan': '8.80', 'Ngu_van': '7.50', 'Ngoai_ngu': '7.00', 'Vat_ly': '7.50', 'Hoa_hoc': '8.50', 'Sinh_hoc': '5.25', 'Diem_KHTN': '7.08', 'Lich_su': '', 'Dia_ly': '', 'GDCD': '', 'Diem_KHXH': ''}\n",
      "{'SBD': '03008492', 'Cum_thi': 'Sở GDĐT Hải Phòng', 'Toan': '8.20', 'Ngu_van': '6.75', 'Ngoai_ngu': '8.20', 'Vat_ly': '4.50', 'Hoa_hoc': '5.75', 'Sinh_hoc': '6.00', 'Diem_KHTN': '5.42', 'Lich_su': '', 'Dia_ly': '', 'GDCD': '', 'Diem_KHXH': ''}\n",
      "{'SBD': '01021743', 'Cum_thi': 'Sở GDĐT Hà Nội', 'Toan': '5.60', 'Ngu_van': '7.75', 'Ngoai_ngu': '2.80', 'Vat_ly': '', 'Hoa_hoc': '', 'Sinh_hoc': '', 'Diem_KHTN': '', 'Lich_su': '4.00', 'Dia_ly': '6.25', 'GDCD': '7.75', 'Diem_KHXH': '6.50'}\n",
      "{'SBD': '03008493', 'Cum_thi': 'Sở GDĐT Hải Phòng', 'Toan': '7.00', 'Ngu_van': '5.50', 'Ngoai_ngu': '3.00', 'Vat_ly': '', 'Hoa_hoc': '', 'Sinh_hoc': '', 'Diem_KHTN': '', 'Lich_su': '4.75', 'Dia_ly': '5.75', 'GDCD': '8.25', 'Diem_KHXH': '7.08'}\n",
      "{'SBD': '01021744', 'Cum_thi': 'Sở GDĐT Hà Nội', 'Toan': '7.80', 'Ngu_van': '7.75', 'Ngoai_ngu': '8.00', 'Vat_ly': '', 'Hoa_hoc': '', 'Sinh_hoc': '', 'Diem_KHTN': '', 'Lich_su': '9.00', 'Dia_ly': '8.00', 'GDCD': '9.75', 'Diem_KHXH': '9.50'}\n"
     ]
    },
    {
     "name": "stdout",
     "output_type": "stream",
     "text": [
      "{'SBD': '01021745', 'Cum_thi': 'Sở GDĐT Hà Nội', 'Toan': '7.20', 'Ngu_van': '8.25', 'Ngoai_ngu': '6.80', 'Vat_ly': '', 'Hoa_hoc': '', 'Sinh_hoc': '', 'Diem_KHTN': '', 'Lich_su': '4.25', 'Dia_ly': '6.50', 'GDCD': '8.00', 'Diem_KHXH': '6.75'}\n",
      "{'SBD': '03008494', 'Cum_thi': 'Sở GDĐT Hải Phòng', 'Toan': '4.00', 'Ngu_van': '7.00', 'Ngoai_ngu': '', 'Vat_ly': '', 'Hoa_hoc': '', 'Sinh_hoc': '', 'Diem_KHTN': '', 'Lich_su': '5.00', 'Dia_ly': '', 'GDCD': '', 'Diem_KHXH': ''}\n",
      "{'SBD': '03008495', 'Cum_thi': 'Sở GDĐT Hải Phòng', 'Toan': '7.00', 'Ngu_van': '6.00', 'Ngoai_ngu': '7.00', 'Vat_ly': '4.75', 'Hoa_hoc': '5.50', 'Sinh_hoc': '3.50', 'Diem_KHTN': '4.58', 'Lich_su': '', 'Dia_ly': '', 'GDCD': '', 'Diem_KHXH': ''}\n",
      "{'SBD': '01021746', 'Cum_thi': 'Sở GDĐT Hà Nội', 'Toan': '9.20', 'Ngu_van': '8.00', 'Ngoai_ngu': '8.80', 'Vat_ly': '6.25', 'Hoa_hoc': '8.00', 'Sinh_hoc': '6.75', 'Diem_KHTN': '7.00', 'Lich_su': '', 'Dia_ly': '', 'GDCD': '', 'Diem_KHXH': ''}\n",
      "{'SBD': '03008496', 'Cum_thi': 'Sở GDĐT Hải Phòng', 'Toan': '6.40', 'Ngu_van': '6.50', 'Ngoai_ngu': '5.20', 'Vat_ly': '', 'Hoa_hoc': '', 'Sinh_hoc': '', 'Diem_KHTN': '', 'Lich_su': '6.25', 'Dia_ly': '7.00', 'GDCD': '8.75', 'Diem_KHXH': '7.92'}\n",
      "{'SBD': '01021747', 'Cum_thi': 'Sở GDĐT Hà Nội', 'Toan': '8.60', 'Ngu_van': '8.75', 'Ngoai_ngu': '5.40', 'Vat_ly': '2.75', 'Hoa_hoc': '6.75', 'Sinh_hoc': '5.50', 'Diem_KHTN': '5.00', 'Lich_su': '', 'Dia_ly': '', 'GDCD': '', 'Diem_KHXH': ''}\n",
      "{'SBD': '03008497', 'Cum_thi': 'Sở GDĐT Hải Phòng', 'Toan': '7.00', 'Ngu_van': '8.25', 'Ngoai_ngu': '2.80', 'Vat_ly': '', 'Hoa_hoc': '', 'Sinh_hoc': '', 'Diem_KHTN': '', 'Lich_su': '5.25', 'Dia_ly': '8.00', 'GDCD': '8.25', 'Diem_KHXH': '7.25'}\n",
      "{'SBD': '01021748', 'Cum_thi': 'Sở GDĐT Hà Nội', 'Toan': '8.60', 'Ngu_van': '6.25', 'Ngoai_ngu': '7.80', 'Vat_ly': '6.75', 'Hoa_hoc': '4.00', 'Sinh_hoc': '5.75', 'Diem_KHTN': '5.50', 'Lich_su': '', 'Dia_ly': '', 'GDCD': '', 'Diem_KHXH': ''}\n",
      "{'SBD': '03008498', 'Cum_thi': 'Sở GDĐT Hải Phòng', 'Toan': '4.80', 'Ngu_van': '6.25', 'Ngoai_ngu': '2.40', 'Vat_ly': '', 'Hoa_hoc': '', 'Sinh_hoc': '', 'Diem_KHTN': '', 'Lich_su': '3.50', 'Dia_ly': '5.50', 'GDCD': '7.50', 'Diem_KHXH': '6.17'}\n",
      "{'SBD': '01021749', 'Cum_thi': 'Sở GDĐT Hà Nội', 'Toan': '7.60', 'Ngu_van': '7.00', 'Ngoai_ngu': '3.80', 'Vat_ly': '', 'Hoa_hoc': '', 'Sinh_hoc': '', 'Diem_KHTN': '', 'Lich_su': '5.00', 'Dia_ly': '7.75', 'GDCD': '8.00', 'Diem_KHXH': '7.00'}\n",
      "{'SBD': '03008499', 'Cum_thi': 'Sở GDĐT Hải Phòng', 'Toan': '7.60', 'Ngu_van': '', 'Ngoai_ngu': '', 'Vat_ly': '4.25', 'Hoa_hoc': '5.00', 'Sinh_hoc': '', 'Diem_KHTN': '', 'Lich_su': '', 'Dia_ly': '', 'GDCD': '', 'Diem_KHXH': ''}\n",
      "{'SBD': '03008500', 'Cum_thi': 'Sở GDĐT Hải Phòng', 'Toan': '4.20', 'Ngu_van': '5.25', 'Ngoai_ngu': '', 'Vat_ly': '', 'Hoa_hoc': '', 'Sinh_hoc': '', 'Diem_KHTN': '', 'Lich_su': '3.25', 'Dia_ly': '', 'GDCD': '', 'Diem_KHXH': ''}\n",
      "{'SBD': '03008501', 'Cum_thi': 'Sở GDĐT Hải Phòng', 'Toan': '5.60', 'Ngu_van': '7.00', 'Ngoai_ngu': '', 'Vat_ly': '', 'Hoa_hoc': '', 'Sinh_hoc': '', 'Diem_KHTN': '', 'Lich_su': '6.00', 'Dia_ly': '', 'GDCD': '', 'Diem_KHXH': ''}\n",
      "{'SBD': '03008502', 'Cum_thi': 'Sở GDĐT Hải Phòng', 'Toan': '7.60', 'Ngu_van': '', 'Ngoai_ngu': '7.80', 'Vat_ly': '7.00', 'Hoa_hoc': '', 'Sinh_hoc': '', 'Diem_KHTN': '', 'Lich_su': '', 'Dia_ly': '', 'GDCD': '', 'Diem_KHXH': ''}\n",
      "{'SBD': '03008503', 'Cum_thi': 'Sở GDĐT Hải Phòng', 'Toan': '4.20', 'Ngu_van': '', 'Ngoai_ngu': '3.80', 'Vat_ly': '2.50', 'Hoa_hoc': '', 'Sinh_hoc': '', 'Diem_KHTN': '', 'Lich_su': '', 'Dia_ly': '', 'GDCD': '', 'Diem_KHXH': ''}\n",
      "11111111111111111111111111111111111111111111111111111111111111111\n",
      "{'SBD': '03008504', 'Cum_thi': 'Sở GDĐT Hải Phòng', 'Toan': '7.80', 'Ngu_van': '8.75', 'Ngoai_ngu': '', 'Vat_ly': '', 'Hoa_hoc': '', 'Sinh_hoc': '', 'Diem_KHTN': '', 'Lich_su': '9.25', 'Dia_ly': '', 'GDCD': '', 'Diem_KHXH': ''}\n",
      "{'SBD': '03008505', 'Cum_thi': 'Sở GDĐT Hải Phòng', 'Toan': '3.60', 'Ngu_van': '6.00', 'Ngoai_ngu': '', 'Vat_ly': '', 'Hoa_hoc': '', 'Sinh_hoc': '', 'Diem_KHTN': '', 'Lich_su': '4.00', 'Dia_ly': '', 'GDCD': '', 'Diem_KHXH': ''}\n"
     ]
    }
   ],
   "source": [
    "# ma_tinh = '01'\n",
    "chrome_path = '/home/hai/Documents/Project/chromedriver_linux64/chromedriver'\n",
    "save_path = '/home/hai/Documents/Project/CrawlDiemthi2020/data'\n",
    "so_luong = 30000\n",
    "# bat dau crawl\n",
    "# Crawler2020('01', chrome_path, save_path, so_luong)\n",
    "\n",
    "t1 = threading.Thread(target = Crawler2020, args=('01', chrome_path, save_path, ))\n",
    "t2 = threading.Thread(target = Crawler2020, args=('03', chrome_path, save_path, ))\n",
    "\n",
    "t1.start()\n",
    "t2.start()\n",
    "\n",
    "t1.join()\n",
    "t2.join()"
   ]
  },
  {
   "cell_type": "code",
   "execution_count": null,
   "id": "70e7eafe",
   "metadata": {},
   "outputs": [],
   "source": [
    "# ma_tinh = '01'\n",
    "chrome_path = '/home/hai/Documents/Project/chromedriver_linux64/chromedriver'\n",
    "save_path = '/home/hai/Documents/Project/CrawlDiemthi2020/data'\n",
    "so_luong = 30000\n",
    "# bat dau crawl\n",
    "# Crawler2020(ma_tinh, chrome_path, save_path, so_luong)\n",
    "\n",
    "t1 = threading.Thread(target = Crawler2020, args=('01', chrome_path, save_path, ))\n",
    "t2 = threading.Thread(target = Crawler2020, args=('03', chrome_path, save_path, ))\n",
    "\n",
    "t1.start()\n",
    "t2.start()\n",
    "\n",
    "t1.join()\n",
    "t2.join()"
   ]
  }
 ],
 "metadata": {
  "kernelspec": {
   "display_name": "Python 3",
   "language": "python",
   "name": "python3"
  },
  "language_info": {
   "codemirror_mode": {
    "name": "ipython",
    "version": 3
   },
   "file_extension": ".py",
   "mimetype": "text/x-python",
   "name": "python",
   "nbconvert_exporter": "python",
   "pygments_lexer": "ipython3",
   "version": "3.8.8"
  }
 },
 "nbformat": 4,
 "nbformat_minor": 5
}
